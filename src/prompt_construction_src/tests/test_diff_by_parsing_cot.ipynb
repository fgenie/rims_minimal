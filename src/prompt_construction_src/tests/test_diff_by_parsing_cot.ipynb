{
 "cells": [
  {
   "cell_type": "markdown",
   "metadata": {},
   "source": [
    "# OCW, MATH: Why low acc?\n",
    "> Possible flaws in\n",
    "> * equivalence function? (checked innocent)\n",
    "> * parsing? (**suspicious here.**)"
   ]
  },
  {
   "cell_type": "code",
   "execution_count": 3,
   "metadata": {},
   "outputs": [],
   "source": [
    "import jsonlines as jsl\n",
    "import pandas as pd\n",
    "from tqdm import tqdm\n",
    "tqdm.pandas()\n",
    "\n",
    "\n",
    "MATH_RESULT = \"/Users/seonils/dev/rims_minimal/src/seonil_scripts/0_RESULTS_v1/math_full_0613long/chatgpt0613long_model_selection3_math_merged.jsonl\"\n",
    "OCW_RESULT = \"/Users/seonils/dev/rims_minimal/src/seonil_scripts/0_RESULTS_v1/ocw_0613long/chatgpt0613long_model_selection3_ocw.jsonl\""
   ]
  },
  {
   "cell_type": "code",
   "execution_count": 4,
   "metadata": {},
   "outputs": [],
   "source": [
    "math_df = pd.DataFrame(jsl.open(MATH_RESULT))\n",
    "ocw_df = pd.DataFrame(jsl.open(OCW_RESULT))"
   ]
  },
  {
   "cell_type": "code",
   "execution_count": 5,
   "metadata": {},
   "outputs": [
    {
     "data": {
      "text/plain": [
       "Index(['question', 'level', 'type', 'solution', 'answer', 'ansmap', 'solmap',\n",
       "       'selection_or_rims', 'majority_ans', 'prompt_file', 'inference_mode'],\n",
       "      dtype='object')"
      ]
     },
     "execution_count": 5,
     "metadata": {},
     "output_type": "execute_result"
    }
   ],
   "source": [
    "math_df.shape, ocw_df.shape\n",
    "math_df.columns"
   ]
  },
  {
   "cell_type": "code",
   "execution_count": 6,
   "metadata": {},
   "outputs": [],
   "source": [
    "from utils.llm_query_utils import extract_ans_from_cot_MATHnOCW\n",
    "from utils.math_util import is_equiv, is_equiv_ocw, normalize_final_answer\n",
    "\n",
    "def diff_oldparse_newparse(df:pd.DataFrame):\n",
    "    df[\"newpred_cot\"] = df.solmap.apply(lambda d: extract_ans_from_cot_MATHnOCW(d[\"cot\"]))\n",
    "    df[\"oldpred_cot\"] = df.ansmap.apply(lambda d: d[\"cot\"])\n",
    "    df[\"cot_changed\"] = df.newpred_cot != df.oldpred_cot\n",
    "    return df "
   ]
  },
  {
   "cell_type": "code",
   "execution_count": 7,
   "metadata": {},
   "outputs": [
    {
     "data": {
      "text/plain": [
       "(4996, 4996, 272, 272)"
      ]
     },
     "execution_count": 7,
     "metadata": {},
     "output_type": "execute_result"
    }
   ],
   "source": [
    "math_df_ = diff_oldparse_newparse(math_df)\n",
    "ocw_df_ = diff_oldparse_newparse(ocw_df)\n",
    "\n",
    "\n",
    "math_df_.cot_changed.sum(), len(math_df_), ocw_df_.cot_changed.sum(), len(ocw_df_)"
   ]
  },
  {
   "cell_type": "markdown",
   "metadata": {},
   "source": [
    "## oldparse vs newparse of CoT solutions\n",
    "- I guess the parsing is done as our wish. \n",
    "- But the solution did not (fewshot-inferenced by gsm fewshots, thus old parsing function will work better on it)"
   ]
  },
  {
   "cell_type": "code",
   "execution_count": 8,
   "metadata": {},
   "outputs": [
    {
     "data": {
      "text/html": [
       "<div>\n",
       "<style scoped>\n",
       "    .dataframe tbody tr th:only-of-type {\n",
       "        vertical-align: middle;\n",
       "    }\n",
       "\n",
       "    .dataframe tbody tr th {\n",
       "        vertical-align: top;\n",
       "    }\n",
       "\n",
       "    .dataframe thead th {\n",
       "        text-align: right;\n",
       "    }\n",
       "</style>\n",
       "<table border=\"1\" class=\"dataframe\">\n",
       "  <thead>\n",
       "    <tr style=\"text-align: right;\">\n",
       "      <th></th>\n",
       "      <th>newpred_cot</th>\n",
       "      <th>oldpred_cot</th>\n",
       "      <th>answer</th>\n",
       "    </tr>\n",
       "  </thead>\n",
       "  <tbody>\n",
       "    <tr>\n",
       "      <th>0</th>\n",
       "      <td>$x=2$</td>\n",
       "      <td>3.0</td>\n",
       "      <td>2</td>\n",
       "    </tr>\n",
       "    <tr>\n",
       "      <th>1</th>\n",
       "      <td>$130\\%$</td>\n",
       "      <td>1.0</td>\n",
       "      <td>10</td>\n",
       "    </tr>\n",
       "    <tr>\n",
       "      <th>2</th>\n",
       "      <td>$\\frac{8}{7}$</td>\n",
       "      <td>8.0</td>\n",
       "      <td>\\dfrac{9}{7}</td>\n",
       "    </tr>\n",
       "    <tr>\n",
       "      <th>3</th>\n",
       "      <td>$i^5 + i^{-25} + i^{45} = i + (-i) + i = 0$</td>\n",
       "      <td>0.0</td>\n",
       "      <td>i</td>\n",
       "    </tr>\n",
       "    <tr>\n",
       "      <th>4</th>\n",
       "      <td>$2^8 = 2^{2x}$</td>\n",
       "      <td>4.0</td>\n",
       "      <td>4</td>\n",
       "    </tr>\n",
       "    <tr>\n",
       "      <th>...</th>\n",
       "      <td>...</td>\n",
       "      <td>...</td>\n",
       "      <td>...</td>\n",
       "    </tr>\n",
       "    <tr>\n",
       "      <th>4991</th>\n",
       "      <td>$\\n\\nSo, we can simplify the equation to:\\n$</td>\n",
       "      <td>NaN</td>\n",
       "      <td>-\\frac{4}{3}</td>\n",
       "    </tr>\n",
       "    <tr>\n",
       "      <th>4992</th>\n",
       "      <td>$\\boxed{\\begin{pmatrix} 13 \\\\ -2 \\\\ 3 \\end{pma...</td>\n",
       "      <td>3.0</td>\n",
       "      <td>\\begin{pmatrix} 1 \\\\ 2 \\\\ -3 \\end{pmatrix}</td>\n",
       "    </tr>\n",
       "    <tr>\n",
       "      <th>4993</th>\n",
       "      <td>$\\mathbf{a} + \\mathbf{b} + \\mathbf{c} = \\mathb...</td>\n",
       "      <td>2.0</td>\n",
       "      <td>-\\frac{155}{2}</td>\n",
       "    </tr>\n",
       "    <tr>\n",
       "      <th>4994</th>\n",
       "      <td>$\\dfrac{-\\sin{6^{\\circ}}+\\cos{6^{\\circ}}}{\\cos...</td>\n",
       "      <td>19.0</td>\n",
       "      <td>159</td>\n",
       "    </tr>\n",
       "    <tr>\n",
       "      <th>4995</th>\n",
       "      <td>$-3,$</td>\n",
       "      <td>0.0</td>\n",
       "      <td>\\begin{pmatrix} 1 \\\\ -2 \\\\ -1 \\end{pmatrix}</td>\n",
       "    </tr>\n",
       "  </tbody>\n",
       "</table>\n",
       "<p>4996 rows × 3 columns</p>\n",
       "</div>"
      ],
      "text/plain": [
       "                                            newpred_cot  oldpred_cot  \\\n",
       "0                                                 $x=2$          3.0   \n",
       "1                                               $130\\%$          1.0   \n",
       "2                                         $\\frac{8}{7}$          8.0   \n",
       "3           $i^5 + i^{-25} + i^{45} = i + (-i) + i = 0$          0.0   \n",
       "4                                        $2^8 = 2^{2x}$          4.0   \n",
       "...                                                 ...          ...   \n",
       "4991       $\\n\\nSo, we can simplify the equation to:\\n$          NaN   \n",
       "4992  $\\boxed{\\begin{pmatrix} 13 \\\\ -2 \\\\ 3 \\end{pma...          3.0   \n",
       "4993  $\\mathbf{a} + \\mathbf{b} + \\mathbf{c} = \\mathb...          2.0   \n",
       "4994  $\\dfrac{-\\sin{6^{\\circ}}+\\cos{6^{\\circ}}}{\\cos...         19.0   \n",
       "4995                                              $-3,$          0.0   \n",
       "\n",
       "                                           answer  \n",
       "0                                               2  \n",
       "1                                              10  \n",
       "2                                    \\dfrac{9}{7}  \n",
       "3                                               i  \n",
       "4                                               4  \n",
       "...                                           ...  \n",
       "4991                                 -\\frac{4}{3}  \n",
       "4992   \\begin{pmatrix} 1 \\\\ 2 \\\\ -3 \\end{pmatrix}  \n",
       "4993                               -\\frac{155}{2}  \n",
       "4994                                          159  \n",
       "4995  \\begin{pmatrix} 1 \\\\ -2 \\\\ -1 \\end{pmatrix}  \n",
       "\n",
       "[4996 rows x 3 columns]"
      ]
     },
     "execution_count": 8,
     "metadata": {},
     "output_type": "execute_result"
    }
   ],
   "source": [
    "math_df_.loc[:, [\"newpred_cot\", \"oldpred_cot\", \"answer\"]]"
   ]
  },
  {
   "cell_type": "code",
   "execution_count": 9,
   "metadata": {},
   "outputs": [
    {
     "data": {
      "text/html": [
       "<div>\n",
       "<style scoped>\n",
       "    .dataframe tbody tr th:only-of-type {\n",
       "        vertical-align: middle;\n",
       "    }\n",
       "\n",
       "    .dataframe tbody tr th {\n",
       "        vertical-align: top;\n",
       "    }\n",
       "\n",
       "    .dataframe thead th {\n",
       "        text-align: right;\n",
       "    }\n",
       "</style>\n",
       "<table border=\"1\" class=\"dataframe\">\n",
       "  <thead>\n",
       "    <tr style=\"text-align: right;\">\n",
       "      <th></th>\n",
       "      <th>newpred_cot</th>\n",
       "      <th>oldpred_cot</th>\n",
       "    </tr>\n",
       "  </thead>\n",
       "  <tbody>\n",
       "    <tr>\n",
       "      <th>0</th>\n",
       "      <td>6.5</td>\n",
       "      <td>NaN</td>\n",
       "    </tr>\n",
       "    <tr>\n",
       "      <th>1</th>\n",
       "      <td>$L = 4\\pi (10^9 \\mathrm{~cm})^2 (5.67 \\times 1...</td>\n",
       "      <td>5.00</td>\n",
       "    </tr>\n",
       "    <tr>\n",
       "      <th>2</th>\n",
       "      <td>$41.81^\\circ$</td>\n",
       "      <td>41.81</td>\n",
       "    </tr>\n",
       "    <tr>\n",
       "      <th>3</th>\n",
       "      <td>$m = 5 \\log_{10}(3) + 18$</td>\n",
       "      <td>18.00</td>\n",
       "    </tr>\n",
       "    <tr>\n",
       "      <th>4</th>\n",
       "      <td>\\( 5.9 \\, \\mathrm{m/s^2} \\)</td>\n",
       "      <td>5.90</td>\n",
       "    </tr>\n",
       "    <tr>\n",
       "      <th>...</th>\n",
       "      <td>...</td>\n",
       "      <td>...</td>\n",
       "    </tr>\n",
       "    <tr>\n",
       "      <th>267</th>\n",
       "      <td>\\(4.571 \\times 10^{-25} \\, \\mathrm{m}\\)</td>\n",
       "      <td>25.00</td>\n",
       "    </tr>\n",
       "    <tr>\n",
       "      <th>268</th>\n",
       "      <td>\\[\\n\\hat{E} \\psi_1 = E_1 \\psi_1 \\quad \\text{an...</td>\n",
       "      <td>1.00</td>\n",
       "    </tr>\n",
       "    <tr>\n",
       "      <th>269</th>\n",
       "      <td>$\\psi_2$</td>\n",
       "      <td>2.00</td>\n",
       "    </tr>\n",
       "    <tr>\n",
       "      <th>270</th>\n",
       "      <td>$ and $</td>\n",
       "      <td>NaN</td>\n",
       "    </tr>\n",
       "    <tr>\n",
       "      <th>271</th>\n",
       "      <td>\\[\\nE_{\\widetilde{10}}^{(1)} = 1\\n\\]</td>\n",
       "      <td>0.00</td>\n",
       "    </tr>\n",
       "  </tbody>\n",
       "</table>\n",
       "<p>272 rows × 2 columns</p>\n",
       "</div>"
      ],
      "text/plain": [
       "                                           newpred_cot  oldpred_cot\n",
       "0                                                  6.5          NaN\n",
       "1    $L = 4\\pi (10^9 \\mathrm{~cm})^2 (5.67 \\times 1...         5.00\n",
       "2                                        $41.81^\\circ$        41.81\n",
       "3                            $m = 5 \\log_{10}(3) + 18$        18.00\n",
       "4                          \\( 5.9 \\, \\mathrm{m/s^2} \\)         5.90\n",
       "..                                                 ...          ...\n",
       "267            \\(4.571 \\times 10^{-25} \\, \\mathrm{m}\\)        25.00\n",
       "268  \\[\\n\\hat{E} \\psi_1 = E_1 \\psi_1 \\quad \\text{an...         1.00\n",
       "269                                           $\\psi_2$         2.00\n",
       "270                                            $ and $          NaN\n",
       "271               \\[\\nE_{\\widetilde{10}}^{(1)} = 1\\n\\]         0.00\n",
       "\n",
       "[272 rows x 2 columns]"
      ]
     },
     "execution_count": 9,
     "metadata": {},
     "output_type": "execute_result"
    }
   ],
   "source": [
    "ocw_df_.loc[:, [\"newpred_cot\", \"oldpred_cot\"]]\n"
   ]
  },
  {
   "cell_type": "code",
   "execution_count": 14,
   "metadata": {},
   "outputs": [],
   "source": [
    "def before_and_after_accuracy(df, equiv_f:callable=None):\n",
    "    newparse_correct = df.progress_apply(lambda row: equiv_f(row.newpred_cot, row.answer), axis=\"columns\")\n",
    "    oldparse_correct = df.progress_apply(lambda row: equiv_f(row.oldpred_cot, row.answer), axis=\"columns\")\n",
    "    results = {\n",
    "        \"new_acc\": round(newparse_correct.mean(),3),\n",
    "        \"old_acc\": round(oldparse_correct.mean(),3),\n",
    "        \"delta correct\": (newparse_correct.sum()-oldparse_correct.sum(), len(newparse_correct)),\n",
    "    } \n",
    "    return results\n",
    "math_eq = lambda x,y: is_equiv(normalize_final_answer(str(x)), normalize_final_answer(str(y)))\n",
    "ocw_eq_sym = lambda x,y: is_equiv_ocw(str(x), str(y), use_sym_exp_normalizer=True)\n",
    "ocw_eq_norm = lambda x,y: is_equiv_ocw(str(x), str(y), use_sym_exp_normalizer=False)"
   ]
  },
  {
   "cell_type": "code",
   "execution_count": 12,
   "metadata": {},
   "outputs": [
    {
     "name": "stderr",
     "output_type": "stream",
     "text": [
      "100%|██████████| 4996/4996 [00:35<00:00, 140.57it/s]\n",
      "100%|██████████| 4996/4996 [00:17<00:00, 284.79it/s]\n"
     ]
    }
   ],
   "source": [
    "math_res = before_and_after_accuracy(math_df_, math_eq) "
   ]
  },
  {
   "cell_type": "code",
   "execution_count": 15,
   "metadata": {},
   "outputs": [
    {
     "name": "stderr",
     "output_type": "stream",
     "text": [
      "  5%|▍         | 13/272 [00:00<00:02, 124.21it/s]"
     ]
    },
    {
     "name": "stdout",
     "output_type": "stream",
     "text": [
      "failed to parse 41.8000000000000 with exception 'Float' object is not iterable\n",
      "failed to parse 41.81**circ with exception 'Pow' object is not iterable\n",
      "Couldn't subtract None and None with exception unsupported operand type(s) for -: 'NoneType' and 'NoneType'\n",
      "I don't understand this\n",
      "\\( 5.9 \\, \\mathrm{m/s^2} \\)\n",
      "~~~~~~~~~~~~~~~~~~~~~~~~~^\n",
      "failed to parse 0.00600000000000000 with exception 'Float' object is not iterable\n",
      "Couldn't subtract i*(n*(v*(a*(l*(i*(da*(n*(s*(w*(e*r)))))))))) and None with exception unsupported operand type(s) for -: 'Mul' and 'NoneType'\n",
      "failed to parse 300 with exception 'Integer' object is not iterable\n",
      "failed to parse 2.997*((k*m)/s) with exception 'Mul' object is not iterable\n",
      "Couldn't subtract None and None with exception unsupported operand type(s) for -: 'NoneType' and 'NoneType'\n",
      "failed to parse 0.00300000000000000 with exception 'Float' object is not iterable\n",
      "failed to parse 0.003*(mathrm*(a*(r*(c*(s*(e*(c*(o*(ds*n))))))))) with exception 'Mul' object is not iterable\n",
      "Couldn't subtract None and None with exception unsupported operand type(s) for -: 'NoneType' and 'NoneType'\n"
     ]
    },
    {
     "name": "stderr",
     "output_type": "stream",
     "text": [
      " 10%|▉         | 26/272 [00:00<00:02, 91.14it/s] "
     ]
    },
    {
     "name": "stdout",
     "output_type": "stream",
     "text": [
      "failed to parse 6630 with exception 'Integer' object is not iterable\n",
      "failed to parse 65.65*AA with exception 'Mul' object is not iterable\n",
      "Couldn't subtract None and None with exception unsupported operand type(s) for -: 'NoneType' and 'NoneType'\n",
      "failed to parse 7*(e*37) with exception 'Mul' object is not iterable\n",
      "failed to parse L with exception 'Symbol' object is not iterable\n",
      "Couldn't subtract None and None with exception unsupported operand type(s) for -: 'NoneType' and 'NoneType'\n",
      "failed to parse (M**(1/3)*a)/(G*M**(2/3) + b) with exception 'Mul' object is not iterable\n",
      "failed to parse rho with exception 'Symbol' object is not iterable\n",
      "Couldn't subtract None and None with exception unsupported operand type(s) for -: 'NoneType' and 'NoneType'\n"
     ]
    },
    {
     "name": "stderr",
     "output_type": "stream",
     "text": [
      " 17%|█▋        | 45/272 [00:00<00:03, 60.32it/s]"
     ]
    },
    {
     "name": "stdout",
     "output_type": "stream",
     "text": [
      "failed to parse 0.150000000000000 with exception 'Float' object is not iterable\n",
      "failed to parse 1 - 1*M_{odot}/(Delta*M) with exception 'Add' object is not iterable\n",
      "Couldn't subtract None and None with exception unsupported operand type(s) for -: 'NoneType' and 'NoneType'\n",
      "I don't understand this\n",
      "-1./3\n",
      "~~~^\n",
      "failed to parse M with exception 'Symbol' object is not iterable\n",
      "Couldn't subtract None and i*(n*(v*(a*(l*(i*(da*(n*(s*(w*(e*r)))))))))) with exception unsupported operand type(s) for -: 'NoneType' and 'Mul'\n",
      "failed to parse 0.0330000000000000 with exception 'Float' object is not iterable\n",
      "failed to parse T*(h*(e*(r*(e*(f*(o*(e*r))))))) with exception 'Mul' object is not iterable\n",
      "Couldn't subtract None and None with exception unsupported operand type(s) for -: 'NoneType' and 'NoneType'\n",
      "I don't understand this\n",
      "3.086 \\times 10^{13} \\mathrm{~km}\n",
      "~~~~~~~~~~~~~~~~~~~~~~~~~~~~~^\n",
      "failed to parse 0.561300000000000 with exception 'Float' object is not iterable\n",
      "Couldn't subtract i*(n*(v*(a*(l*(i*(da*(n*(s*(w*(e*r)))))))))) and None with exception unsupported operand type(s) for -: 'Mul' and 'NoneType'\n",
      "I don't understand this\n",
      "10^{-3} \\mathrm{~cm}\n",
      "~~~~~~~~~~~~~~~~^\n",
      "failed to parse 1*e - 3 with exception 'Add' object is not iterable\n",
      "Couldn't subtract i*(n*(v*(a*(l*(i*(da*(n*(s*(w*(e*r)))))))))) and None with exception unsupported operand type(s) for -: 'Mul' and 'NoneType'\n",
      "I don't understand this\n",
      "-3./2\n",
      "~~~^\n",
      "failed to parse log(F, E) with exception 'log' object is not iterable\n",
      "Couldn't subtract None and i*(n*(v*(a*(l*(i*(da*(n*(s*(w*(e*r)))))))))) with exception unsupported operand type(s) for -: 'NoneType' and 'Mul'\n",
      "failed to parse 0.530000000000000 with exception 'Float' object is not iterable\n",
      "failed to parse t*(approx*0.53) with exception 'Mul' object is not iterable\n",
      "Couldn't subtract None and None with exception unsupported operand type(s) for -: 'NoneType' and 'NoneType'\n"
     ]
    },
    {
     "name": "stderr",
     "output_type": "stream",
     "text": [
      " 24%|██▍       | 65/272 [00:00<00:03, 66.41it/s]"
     ]
    },
    {
     "name": "stdout",
     "output_type": "stream",
     "text": [
      "failed to parse c/x**2 - cos(2*x)/(2*x**2) with exception 'Add' object is not iterable\n",
      "failed to parse T*(h*(i*(s*(i*(s*(t*(h*(e*(g*(e*(n*(e*(r*(a*(l*(s*(o*(l*(u*(t*(i*(o*(n*(t*(o*(t*(h*(e*(g*(i*(v*(e*(n*(di*(f*(f*(e*(r*(e*(n*(t*(i*(a*(l*(e*(q*(u*(a*(t*(i*(n*o))))))))))))))))))))))))))))))))))))))))))))))))))) with exception 'Mul' object is not iterable\n",
      "Couldn't subtract None and None with exception unsupported operand type(s) for -: 'NoneType' and 'NoneType'\n"
     ]
    },
    {
     "name": "stderr",
     "output_type": "stream",
     "text": [
      " 29%|██▉       | 79/272 [00:01<00:04, 40.17it/s]"
     ]
    },
    {
     "name": "stdout",
     "output_type": "stream",
     "text": [
      "failed to parse 4 with exception 'Integer' object is not iterable\n",
      "failed to parse z**2 with exception 'Pow' object is not iterable\n",
      "Couldn't subtract None and None with exception unsupported operand type(s) for -: 'NoneType' and 'NoneType'\n",
      "failed to parse -0.875000000000000 with exception 'Float' object is not iterable\n",
      "failed to parse y with exception 'Symbol' object is not iterable\n",
      "Couldn't subtract None and None with exception unsupported operand type(s) for -: 'NoneType' and 'NoneType'\n",
      "failed to parse (i*pi)/3 + log(2, E) with exception 'Add' object is not iterable\n",
      "failed to parse n with exception 'Symbol' object is not iterable\n",
      "Couldn't subtract None and None with exception unsupported operand type(s) for -: 'NoneType' and 'NoneType'\n",
      "failed to parse C_{4}*sin(t) + (C_{3}*cos(t) + (C_{2}/e**t + (C_{1}*e**t + cos(2*t)/15))) with exception 'Add' object is not iterable\n",
      "failed to parse C_{4} with exception 'Symbol' object is not iterable\n",
      "Couldn't subtract None and None with exception unsupported operand type(s) for -: 'NoneType' and 'NoneType'\n"
     ]
    },
    {
     "name": "stderr",
     "output_type": "stream",
     "text": [
      " 31%|███▏      | 85/272 [00:01<00:05, 31.22it/s]"
     ]
    },
    {
     "name": "stdout",
     "output_type": "stream",
     "text": [
      "failed to parse c/e**(2*x) + (x/2 - 1/4) with exception 'Add' object is not iterable\n",
      "failed to parse T*(h*(e*(l*(e*(f*(t*(s*(i*(de*(c*(a*(n*(b*(e*(r*(e*(w*(r*(i*(t*(t*(e*(n*(u*(s*(i*(n*(g*(t*(h*(e*(p*(r*(o*(du*(c*(t*(r*(u*(e*l)))))))))))))))))))))))))))))))))))))))) with exception 'Mul' object is not iterable\n",
      "Couldn't subtract None and None with exception unsupported operand type(s) for -: 'NoneType' and 'NoneType'\n",
      "failed to parse C_{4}*sin(t) + (C_{3}*cos(t) + (C_{2}/e**t + (C_{1}*e**t + 1/(e**(2*t)*15)))) with exception 'Add' object is not iterable\n",
      "failed to parse C_{1} with exception 'Symbol' object is not iterable\n",
      "Couldn't subtract None and None with exception unsupported operand type(s) for -: 'NoneType' and 'NoneType'\n"
     ]
    },
    {
     "name": "stderr",
     "output_type": "stream",
     "text": [
      " 36%|███▌      | 97/272 [00:02<00:04, 38.10it/s]"
     ]
    },
    {
     "name": "stdout",
     "output_type": "stream",
     "text": [
      "failed to parse e**(2*(i*t))/(2*i + 2) with exception 'Mul' object is not iterable\n",
      "failed to parse W with exception 'Symbol' object is not iterable\n",
      "Couldn't subtract None and None with exception unsupported operand type(s) for -: 'NoneType' and 'NoneType'\n",
      "failed to parse (-i*omega/4 + (2 - omega**2))/((omega**4 - 63/16*omega**2) + 4) with exception 'Mul' object is not iterable\n",
      "failed to parse e**(i*(omega*t)) with exception 'Pow' object is not iterable\n",
      "Couldn't subtract None and None with exception unsupported operand type(s) for -: 'NoneType' and 'NoneType'\n",
      "failed to parse c/e**(2*t) + e**t/3 with exception 'Add' object is not iterable\n",
      "failed to parse c with exception 'Symbol' object is not iterable\n",
      "Couldn't subtract None and None with exception unsupported operand type(s) for -: 'NoneType' and 'NoneType'\n",
      "failed to parse 1/(e**(2*t)*15) with exception 'Mul' object is not iterable\n",
      "failed to parse B with exception 'Symbol' object is not iterable\n",
      "Couldn't subtract None and None with exception unsupported operand type(s) for -: 'NoneType' and 'NoneType'\n"
     ]
    },
    {
     "name": "stderr",
     "output_type": "stream",
     "text": [
      " 40%|███▉      | 108/272 [00:02<00:04, 40.76it/s]"
     ]
    },
    {
     "name": "stdout",
     "output_type": "stream",
     "text": [
      "failed to parse pi/2 with exception 'Mul' object is not iterable\n",
      "failed to parse i*s with exception 'Mul' object is not iterable\n",
      "Couldn't subtract None and None with exception unsupported operand type(s) for -: 'NoneType' and 'NoneType'\n",
      "failed to parse -8*sqrt(3)*i - 8 with exception 'Add' object is not iterable\n",
      "failed to parse 3 with exception 'Integer' object is not iterable\n",
      "Couldn't subtract None and None with exception unsupported operand type(s) for -: 'NoneType' and 'NoneType'\n",
      "failed to parse 2 with exception 'Integer' object is not iterable\n",
      "failed to parse b with exception 'Symbol' object is not iterable\n",
      "Couldn't subtract None and None with exception unsupported operand type(s) for -: 'NoneType' and 'NoneType'\n",
      "failed to parse C/e**(2*t) + e**(2*(i*t))/(2*i + 2) with exception 'Add' object is not iterable\n",
      "failed to parse C with exception 'Symbol' object is not iterable\n",
      "Couldn't subtract None and None with exception unsupported operand type(s) for -: 'NoneType' and 'NoneType'\n",
      "I don't understand this\n",
      "\\(-\\tau \\ln(0.1)\\)\n",
      "~~~~~~~~~~~~~~~~^\n",
      "failed to parse 2.2*tau with exception 'Mul' object is not iterable\n",
      "Couldn't subtract i*(n*(v*(a*(l*(i*(da*(n*(s*(w*(e*r)))))))))) and None with exception unsupported operand type(s) for -: 'Mul' and 'NoneType'\n",
      "failed to parse 1/(a + s) with exception 'Pow' object is not iterable\n",
      "failed to parse i*s with exception 'Mul' object is not iterable\n",
      "Couldn't subtract None and None with exception unsupported operand type(s) for -: 'NoneType' and 'NoneType'\n",
      "I don't understand this\n",
      "\\(y(t)\\)\n",
      "~~~~~~^\n"
     ]
    },
    {
     "name": "stderr",
     "output_type": "stream",
     "text": [
      " 44%|████▍     | 119/272 [00:02<00:03, 41.35it/s]"
     ]
    },
    {
     "name": "stdout",
     "output_type": "stream",
     "text": [
      "failed to parse omega_{n}**2*(cos(omega_{n}*(t*sqrt(1 - zeta**2)))/e**(zeta*(omega_{n}*t))) - sin(omega_{n}*(t*sqrt(1 - zeta**2)))/e**(zeta*(omega_{n}*t))*(omega_{n}**2*zeta)/(sqrt(1 - zeta**2)) with exception 'Add' object is not iterable\n",
      "Couldn't subtract i*(n*(v*(a*(l*(i*(da*(n*(s*(w*(e*r)))))))))) and None with exception unsupported operand type(s) for -: 'Mul' and 'NoneType'\n",
      "I don't understand this\n",
      "\\(u_{s}(t)-u_{s}(t-1)\\)\n",
      "~~~~~~~~~~~~~~~~~~~~~^\n",
      "failed to parse (-1/(e*e**s)/(s + 1) + (1/(s + 1) - 1/(e*s))) + (1/(e*e**s))/s with exception 'Add' object is not iterable\n",
      "Couldn't subtract i*(n*(v*(a*(l*(i*(da*(n*(s*(w*(e*r)))))))))) and None with exception unsupported operand type(s) for -: 'Mul' and 'NoneType'\n",
      "I don't understand this\n",
      "\\(1/m\\)\n",
      "~~~~~^\n",
      "failed to parse t/m with exception 'Mul' object is not iterable\n",
      "Couldn't subtract i*(n*(v*(a*(l*(i*(da*(n*(s*(w*(e*r)))))))))) and None with exception unsupported operand type(s) for -: 'Mul' and 'NoneType'\n",
      "failed to parse (s + sigma)/(omega_{d}**2 + (s + sigma)**2) with exception 'Mul' object is not iterable\n",
      "failed to parse s/(((omega_{d}**2 + s**2)*(s + sigma))) with exception 'Mul' object is not iterable\n",
      "Couldn't subtract None and None with exception unsupported operand type(s) for -: 'NoneType' and 'NoneType'\n",
      "I don't understand this\n",
      "\\(t\\)\n",
      "~~~^\n",
      "failed to parse 1000 with exception 'Integer' object is not iterable\n",
      "Couldn't subtract i*(n*(v*(a*(l*(i*(da*(n*(s*(w*(e*r)))))))))) and None with exception unsupported operand type(s) for -: 'Mul' and 'NoneType'\n"
     ]
    },
    {
     "name": "stderr",
     "output_type": "stream",
     "text": [
      " 48%|████▊     | 131/272 [00:02<00:03, 46.93it/s]"
     ]
    },
    {
     "name": "stdout",
     "output_type": "stream",
     "text": [
      "I don't understand this\n",
      "\\(t > 0\\)\n",
      "~~~~~~~^\n",
      "failed to parse (b*delta(t) + 1) - 1/e**(a*t) with exception 'Add' object is not iterable\n",
      "Couldn't subtract i*(n*(v*(a*(l*(i*(da*(n*(s*(w*(e*r)))))))))) and None with exception unsupported operand type(s) for -: 'Mul' and 'NoneType'\n",
      "I don't understand this\n",
      "\\(Y(s)\\)\n",
      "~~~~~~^\n",
      "failed to parse (-1/e**(b*t) + e**(-a*t))/(-a + b) with exception 'Mul' object is not iterable\n",
      "Couldn't subtract i*(n*(v*(a*(l*(i*(da*(n*(s*(w*(e*r)))))))))) and None with exception unsupported operand type(s) for -: 'Mul' and 'NoneType'\n",
      "I expected something else here\n",
      "\n",
      "\n",
      "\n",
      "^\n",
      "failed to parse (t + sin(2*t)/2)*u(t) with exception 'Mul' object is not iterable\n",
      "Couldn't subtract i*(n*(v*(a*(l*(i*(da*(n*(s*(w*(e*r)))))))))) and None with exception unsupported operand type(s) for -: 'Mul' and 'NoneType'\n",
      "I don't understand this\n",
      "\\(V_{i}(s)\\)\n",
      "~~~~~~~~~~^\n",
      "failed to parse 1/((L*(C*s**2) + R*(C*s)) + 1) with exception 'Pow' object is not iterable\n",
      "Couldn't subtract i*(n*(v*(a*(l*(i*(da*(n*(s*(w*(e*r)))))))))) and None with exception unsupported operand type(s) for -: 'Mul' and 'NoneType'\n",
      "I don't understand this\n",
      "\\(\\frac{1}{5}\\)\n",
      "~~~~~~~~~~~~~^\n",
      "failed to parse 0.200000000000000 with exception 'Float' object is not iterable\n",
      "Couldn't subtract i*(n*(v*(a*(l*(i*(da*(n*(s*(w*(e*r)))))))))) and None with exception unsupported operand type(s) for -: 'Mul' and 'NoneType'\n",
      "I don't understand this\n",
      "\\(10^{-8}\\)\n",
      "~~~~~~~~~^\n",
      "failed to parse 1*e - 8 with exception 'Add' object is not iterable\n",
      "Couldn't subtract i*(n*(v*(a*(l*(i*(da*(n*(s*(w*(e*r)))))))))) and None with exception unsupported operand type(s) for -: 'Mul' and 'NoneType'\n",
      "I don't understand this\n",
      "\\(\\omega_n\\)\n",
      "~~~~~~~~~~^\n",
      "failed to parse 100 with exception 'Integer' object is not iterable\n",
      "Couldn't subtract i*(n*(v*(a*(l*(i*(da*(n*(s*(w*(e*r)))))))))) and None with exception unsupported operand type(s) for -: 'Mul' and 'NoneType'\n"
     ]
    },
    {
     "name": "stderr",
     "output_type": "stream",
     "text": [
      " 57%|█████▋    | 156/272 [00:03<00:01, 78.66it/s]"
     ]
    },
    {
     "name": "stdout",
     "output_type": "stream",
     "text": [
      "I don't understand this\n",
      "\\(\\omega_{d}\\)\n",
      "~~~~~~~~~~~~^\n",
      "failed to parse 99.9000000000000 with exception 'Float' object is not iterable\n",
      "Couldn't subtract i*(n*(v*(a*(l*(i*(da*(n*(s*(w*(e*r)))))))))) and None with exception unsupported operand type(s) for -: 'Mul' and 'NoneType'\n",
      "I don't understand this\n",
      "\\(\\frac{1}{20}\\)\n",
      "~~~~~~~~~~~~~~^\n",
      "failed to parse 0.0500000000000000 with exception 'Float' object is not iterable\n",
      "Couldn't subtract i*(n*(v*(a*(l*(i*(da*(n*(s*(w*(e*r)))))))))) and None with exception unsupported operand type(s) for -: 'Mul' and 'NoneType'\n",
      "failed to parse c/(sqrt(2)) with exception 'Mul' object is not iterable\n",
      "failed to parse c with exception 'Symbol' object is not iterable\n",
      "Couldn't subtract None and None with exception unsupported operand type(s) for -: 'NoneType' and 'NoneType'\n",
      "failed to parse m_{p}*(c**2*((gamma**2 - 1)*sin(theta)**2)) with exception 'Mul' object is not iterable\n",
      "failed to parse m_{p} with exception 'Symbol' object is not iterable\n",
      "Couldn't subtract None and None with exception unsupported operand type(s) for -: 'NoneType' and 'NoneType'\n",
      "failed to parse lambda_{text*(r*(d*e))}/(sqrt(2)) with exception 'Mul' object is not iterable\n",
      "failed to parse lambda_{text*(r*(d*e))}*sqrt(2*sqrt(2) + 3) with exception 'Mul' object is not iterable\n",
      "Couldn't subtract None and None with exception unsupported operand type(s) for -: 'NoneType' and 'NoneType'\n",
      "failed to parse 5 with exception 'Integer' object is not iterable\n",
      "failed to parse H**3 with exception 'Pow' object is not iterable\n",
      "Couldn't subtract None and None with exception unsupported operand type(s) for -: 'NoneType' and 'NoneType'\n",
      "failed to parse 4 with exception 'Integer' object is not iterable\n",
      "failed to parse H**3 with exception 'Pow' object is not iterable\n",
      "Couldn't subtract None and None with exception unsupported operand type(s) for -: 'NoneType' and 'NoneType'\n",
      "failed to parse 4.03188000000000 with exception 'Float' object is not iterable\n",
      "failed to parse H*e with exception 'Mul' object is not iterable\n",
      "Couldn't subtract None and None with exception unsupported operand type(s) for -: 'NoneType' and 'NoneType'\n",
      "failed to parse 0.264000000000000 with exception 'Float' object is not iterable\n",
      "failed to parse H*e with exception 'Mul' object is not iterable\n",
      "Couldn't subtract None and None with exception unsupported operand type(s) for -: 'NoneType' and 'NoneType'\n",
      "I don't understand this\n",
      "\\boxed{4080 \\mathrm{~\\mathring{A}}}\n",
      "~~~~~~~~~~~~~~~~~~~~^\n",
      "failed to parse 4080 with exception 'Integer' object is not iterable\n",
      "Couldn't subtract i*(n*(v*(a*(l*(i*(da*(n*(s*(w*(e*r)))))))))) and None with exception unsupported operand type(s) for -: 'Mul' and 'NoneType'\n",
      "I don't understand this\n",
      "\\(2.19 \\times 10^6\\)\n",
      "~~~~~~~~~~~~~~~~~~^\n",
      "failed to parse 2.19*(e*6) with exception 'Mul' object is not iterable\n",
      "Couldn't subtract i*(n*(v*(a*(l*(i*(da*(n*(s*(w*(e*r)))))))))) and None with exception unsupported operand type(s) for -: 'Mul' and 'NoneType'\n"
     ]
    },
    {
     "name": "stderr",
     "output_type": "stream",
     "text": [
      " 68%|██████▊   | 186/272 [00:03<00:00, 101.13it/s]"
     ]
    },
    {
     "name": "stdout",
     "output_type": "stream",
     "text": [
      "failed to parse 1.7*(e*4) with exception 'Mul' object is not iterable\n",
      "failed to parse 1.7*(10**8*(mathrm/((c*m)))) with exception 'Mul' object is not iterable\n",
      "Couldn't subtract None and None with exception unsupported operand type(s) for -: 'NoneType' and 'NoneType'\n",
      "failed to parse 35.0600000000000 with exception 'Float' object is not iterable\n",
      "failed to parse mathrm*(H*N) with exception 'Mul' object is not iterable\n",
      "Couldn't subtract None and None with exception unsupported operand type(s) for -: 'NoneType' and 'NoneType'\n",
      "I don't understand this\n",
      "4.33 \\times 10^3 {~s}^{-1}\n",
      "~~~~~~~~~~~~~~~~~~^\n",
      "failed to parse 4.45*(e*15) with exception 'Mul' object is not iterable\n",
      "Couldn't subtract i*(n*(v*(a*(l*(i*(da*(n*(s*(w*(e*r)))))))))) and None with exception unsupported operand type(s) for -: 'Mul' and 'NoneType'\n",
      "failed to parse 1 with exception 'One' object is not iterable\n",
      "failed to parse mathrm*(C*O) with exception 'Mul' object is not iterable\n",
      "Couldn't subtract None and None with exception unsupported operand type(s) for -: 'NoneType' and 'NoneType'\n",
      "I don't understand this\n",
      "\\(0.59 \\times 10^{-6}\\)\n",
      "~~~~~~~~~~~~~~~~~~~~~^\n",
      "failed to parse 5.89*e - 7 with exception 'Add' object is not iterable\n",
      "Couldn't subtract i*(n*(v*(a*(l*(i*(da*(n*(s*(w*(e*r)))))))))) and None with exception unsupported operand type(s) for -: 'Mul' and 'NoneType'\n",
      "I don't understand this\n",
      "7.353 \\times 10^{14} \\mathrm{~Hz}\n",
      "~~~~~~~~~~~~~~~~~~~~~~~~~~~~~^\n",
      "failed to parse 7.353*(e*14) with exception 'Mul' object is not iterable\n",
      "Couldn't subtract i*(n*(v*(a*(l*(i*(da*(n*(s*(w*(e*r)))))))))) and None with exception unsupported operand type(s) for -: 'Mul' and 'NoneType'\n",
      "I don't understand this\n",
      "<110>\n",
      "^\n",
      "failed to parse 1.39*(e*9) with exception 'Mul' object is not iterable\n",
      "Couldn't subtract i*(n*(v*(a*(l*(i*(da*(n*(s*(w*(e*r)))))))))) and None with exception unsupported operand type(s) for -: 'Mul' and 'NoneType'\n",
      "I don't understand this\n",
      "\\(E_a\\)\n",
      "~~~~~^\n",
      "failed to parse 1.45*e - 5 with exception 'Add' object is not iterable\n",
      "Couldn't subtract i*(n*(v*(a*(l*(i*(da*(n*(s*(w*(e*r)))))))))) and None with exception unsupported operand type(s) for -: 'Mul' and 'NoneType'\n",
      "failed to parse 2.88*(e*16) with exception 'Mul' object is not iterable\n",
      "failed to parse (10**18*(text/(c*m)**3))*((approx*7.9976)*C(3/10**3, 10800)) with exception 'Mul' object is not iterable\n",
      "Couldn't subtract None and None with exception unsupported operand type(s) for -: 'NoneType' and 'NoneType'\n"
     ]
    },
    {
     "name": "stderr",
     "output_type": "stream",
     "text": [
      " 73%|███████▎  | 198/272 [00:03<00:00, 101.91it/s]"
     ]
    },
    {
     "name": "stdout",
     "output_type": "stream",
     "text": [
      "failed to parse 0.130000000000000 with exception 'Float' object is not iterable\n",
      "failed to parse 9.5*(m*mu) with exception 'Mul' object is not iterable\n",
      "Couldn't subtract None and None with exception unsupported operand type(s) for -: 'NoneType' and 'NoneType'\n",
      "failed to parse 8.64000000000000 with exception 'Float' object is not iterable\n",
      "failed to parse 100**circ*(C*mathrm) with exception 'Mul' object is not iterable\n",
      "Couldn't subtract None and None with exception unsupported operand type(s) for -: 'NoneType' and 'NoneType'\n",
      "failed to parse 7.26*(e*6) with exception 'Mul' object is not iterable\n",
      "failed to parse 1.57*(10**6*(text*(m/s))) with exception 'Mul' object is not iterable\n",
      "Couldn't subtract None and None with exception unsupported operand type(s) for -: 'NoneType' and 'NoneType'\n",
      "failed to parse 28.7100000000000 with exception 'Float' object is not iterable\n",
      "failed to parse L_{alpha} with exception 'Symbol' object is not iterable\n",
      "Couldn't subtract None and None with exception unsupported operand type(s) for -: 'NoneType' and 'NoneType'\n",
      "I don't understand this\n",
      "16.6 \\mathrm{~g} / \\mathrm{cm}^{3}\n",
      "~~~~~~~~~~~~~^\n",
      "failed to parse 181.300000000000 with exception 'Float' object is not iterable\n",
      "Couldn't subtract i*(n*(v*(a*(l*(i*(da*(n*(s*(w*(e*r)))))))))) and None with exception unsupported operand type(s) for -: 'Mul' and 'NoneType'\n",
      "I don't understand this\n",
      "(\\frac{6.64 \\mathrm{~mL/mol}}{\\frac{6.022 \\times 10^{23} \\mathrm{~mol}^{-1}}{2}})^{\\frac{1}{3}}\n",
      "~~~~~~~~~~~~~~~~~~~~^\n",
      "failed to parse 3.61*(e*2) with exception 'Mul' object is not iterable\n",
      "Couldn't subtract i*(n*(v*(a*(l*(i*(da*(n*(s*(w*(e*r)))))))))) and None with exception unsupported operand type(s) for -: 'Mul' and 'NoneType'\n",
      "failed to parse 6.40000000000000 with exception 'Float' object is not iterable\n",
      "failed to parse (C*partial**2)/((partial*x**2)) with exception 'Mul' object is not iterable\n",
      "Couldn't subtract None and None with exception unsupported operand type(s) for -: 'NoneType' and 'NoneType'\n",
      "failed to parse 1200 with exception 'Integer' object is not iterable\n",
      "failed to parse I'*(m*(s*(o*(r*(r*y))))) with exception 'Mul' object is not iterable\n",
      "Couldn't subtract None and None with exception unsupported operand type(s) for -: 'NoneType' and 'NoneType'\n",
      "I don't understand this\n",
      ", the vacancy fraction in copper is approximately \n",
      "^\n",
      "failed to parse 1.85*(e*5) with exception 'Mul' object is not iterable\n",
      "Couldn't subtract i*(n*(v*(a*(l*(i*(da*(n*(s*(w*(e*r)))))))))) and None with exception unsupported operand type(s) for -: 'Mul' and 'NoneType'\n"
     ]
    },
    {
     "name": "stderr",
     "output_type": "stream",
     "text": [
      " 81%|████████  | 219/272 [00:03<00:00, 91.43it/s] "
     ]
    },
    {
     "name": "stdout",
     "output_type": "stream",
     "text": [
      "I don't understand this\n",
      "\\(r_0\\)\n",
      "~~~~~^\n",
      "failed to parse 3.3*e - 10 with exception 'Add' object is not iterable\n",
      "Couldn't subtract i*(n*(v*(a*(l*(i*(da*(n*(s*(w*(e*r)))))))))) and None with exception unsupported operand type(s) for -: 'Mul' and 'NoneType'\n",
      "I don't understand this\n",
      "\\(E_a\\)\n",
      "~~~~~^\n",
      "failed to parse 41.9000000000000 with exception 'Float' object is not iterable\n",
      "Couldn't subtract i*(n*(v*(a*(l*(i*(da*(n*(s*(w*(e*r)))))))))) and None with exception unsupported operand type(s) for -: 'Mul' and 'NoneType'\n"
     ]
    },
    {
     "name": "stderr",
     "output_type": "stream",
     "text": [
      " 84%|████████▍ | 229/272 [00:03<00:00, 79.75it/s]"
     ]
    },
    {
     "name": "stdout",
     "output_type": "stream",
     "text": [
      "failed to parse 0.540000000000000 with exception 'Float' object is not iterable\n",
      "failed to parse C - F with exception 'Add' object is not iterable\n",
      "Couldn't subtract None and None with exception unsupported operand type(s) for -: 'NoneType' and 'NoneType'\n",
      "I don't understand this\n",
      "2.451e6 \\mathrm{~m^{-1}}\n",
      "~~~~~~~~~~~~~~~~^\n",
      "failed to parse 2.45*(e*6) with exception 'Mul' object is not iterable\n",
      "Couldn't subtract i*(n*(v*(a*(l*(i*(da*(n*(s*(w*(e*r)))))))))) and None with exception unsupported operand type(s) for -: 'Mul' and 'NoneType'\n",
      "failed to parse 12.4000000000000 with exception 'Float' object is not iterable\n",
      "failed to parse 0.1*(m*mu) with exception 'Mul' object is not iterable\n",
      "Couldn't subtract None and None with exception unsupported operand type(s) for -: 'NoneType' and 'NoneType'\n",
      "failed to parse 50.7000000000000 with exception 'Float' object is not iterable\n",
      "failed to parse t*(approx*52.5) with exception 'Mul' object is not iterable\n",
      "Couldn't subtract None and None with exception unsupported operand type(s) for -: 'NoneType' and 'NoneType'\n",
      "I expected something else here\n",
      "{ }^{14} \\mathrm{C}\n",
      "~~^\n",
      "failed to parse 41585 with exception 'Integer' object is not iterable\n",
      "Couldn't subtract i*(n*(v*(a*(l*(i*(da*(n*(s*(w*(e*r)))))))))) and None with exception unsupported operand type(s) for -: 'Mul' and 'NoneType'\n"
     ]
    },
    {
     "name": "stderr",
     "output_type": "stream",
     "text": [
      " 90%|█████████ | 246/272 [00:04<00:00, 75.59it/s]"
     ]
    },
    {
     "name": "stdout",
     "output_type": "stream",
     "text": [
      "failed to parse -1/(2*X**(1/2)) with exception 'Mul' object is not iterable\n",
      "failed to parse 2 with exception 'Integer' object is not iterable\n",
      "Couldn't subtract None and None with exception unsupported operand type(s) for -: 'NoneType' and 'NoneType'\n",
      "failed to parse (2/3)*(C/S) with exception 'Mul' object is not iterable\n",
      "failed to parse (2*C)/((3*S)) with exception 'Mul' object is not iterable\n",
      "Couldn't subtract None and None with exception unsupported operand type(s) for -: 'NoneType' and 'NoneType'\n",
      "I don't understand this\n",
      "\\(\\frac{{L^{-\\frac{3}{4}}}}{{(K-1)^{-\\frac{3}{4}}}}\\)\n",
      "~~~~~~~~~~~~~~~~~~~~~~~~~~~~~~~~~~~~~~~~~~~~~~~~~~~^\n",
      "failed to parse (K - 1)/L with exception 'Mul' object is not iterable\n",
      "Couldn't subtract i*(n*(v*(a*(l*(i*(da*(n*(s*(w*(e*r)))))))))) and None with exception unsupported operand type(s) for -: 'Mul' and 'NoneType'\n"
     ]
    },
    {
     "name": "stderr",
     "output_type": "stream",
     "text": [
      " 98%|█████████▊| 266/272 [00:05<00:00, 37.55it/s]"
     ]
    },
    {
     "name": "stdout",
     "output_type": "stream",
     "text": [
      "failed to parse 64 with exception 'Integer' object is not iterable\n",
      "failed to parse p*(approx*80) with exception 'Mul' object is not iterable\n",
      "Couldn't subtract None and None with exception unsupported operand type(s) for -: 'NoneType' and 'NoneType'\n",
      "failed to parse 7.6*Z with exception 'Mul' object is not iterable\n",
      "failed to parse 5.9*Z with exception 'Mul' object is not iterable\n",
      "Couldn't subtract None and None with exception unsupported operand type(s) for -: 'NoneType' and 'NoneType'\n",
      "I don't understand this\n",
      "2.00 \\times 10^{-3} \\mathrm{~J}\n",
      "~~~~~~~~~~~~~~~~~~~~~~~~~~~~^\n",
      "failed to parse 1.07*(e*16) with exception 'Mul' object is not iterable\n",
      "Couldn't subtract i*(n*(v*(a*(l*(i*(da*(n*(s*(w*(e*r)))))))))) and None with exception unsupported operand type(s) for -: 'Mul' and 'NoneType'\n",
      "I don't understand this\n",
      "5.339 \\times 10^{-19} \\mathrm{~J}\n",
      "~~~~~~~~~~~~~~~~~~~~~~~~~~~~~~^\n",
      "failed to parse 2.88*e - 19 with exception 'Add' object is not iterable\n",
      "Couldn't subtract i*(n*(v*(a*(l*(i*(da*(n*(s*(w*(e*r)))))))))) and None with exception unsupported operand type(s) for -: 'Mul' and 'NoneType'\n",
      "I don't understand this\n",
      "\\( 500 \\, \\text{nm} \\)\n",
      "~~~~~~~~~~~~~~~~~~~~^\n",
      "failed to parse 1.325*e - 27 with exception 'Add' object is not iterable\n",
      "Couldn't subtract i*(n*(v*(a*(l*(i*(da*(n*(s*(w*(e*r)))))))))) and None with exception unsupported operand type(s) for -: 'Mul' and 'NoneType'\n",
      "failed to parse 11.9000000000000 with exception 'Float' object is not iterable\n",
      "failed to parse I*(a*(p*(o*(l*(o*(g*(i*(e*z)))))))) with exception 'Mul' object is not iterable\n",
      "Couldn't subtract None and None with exception unsupported operand type(s) for -: 'NoneType' and 'NoneType'\n",
      "I don't understand this\n",
      "\\(4.571 \\times 10^{-25} \\, \\mathrm{m}\\)\n",
      "~~~~~~~~~~~~~~~~~~~~~~~~~~~~~~~~~~~~~^\n",
      "failed to parse 4.6*e - 24 with exception 'Add' object is not iterable\n",
      "Couldn't subtract i*(n*(v*(a*(l*(i*(da*(n*(s*(w*(e*r)))))))))) and None with exception unsupported operand type(s) for -: 'Mul' and 'NoneType'\n"
     ]
    },
    {
     "name": "stderr",
     "output_type": "stream",
     "text": [
      "100%|██████████| 272/272 [00:05<00:00, 52.22it/s]\n"
     ]
    },
    {
     "name": "stdout",
     "output_type": "stream",
     "text": [
      "failed to parse E_{1} with exception 'Symbol' object is not iterable\n",
      "failed to parse psi_{2} with exception 'Symbol' object is not iterable\n",
      "Couldn't subtract None and None with exception unsupported operand type(s) for -: 'NoneType' and 'NoneType'\n",
      "failed to parse 24 with exception 'Integer' object is not iterable\n",
      "failed to parse a*(d*n) with exception 'Mul' object is not iterable\n",
      "Couldn't subtract None and None with exception unsupported operand type(s) for -: 'NoneType' and 'NoneType'\n"
     ]
    },
    {
     "name": "stderr",
     "output_type": "stream",
     "text": [
      " 10%|▉         | 27/272 [00:00<00:00, 259.33it/s]"
     ]
    },
    {
     "name": "stdout",
     "output_type": "stream",
     "text": [
      "failed to parse 1.60000000000000 with exception 'Float' object is not iterable\n",
      "failed to parse n*(a*n) with exception 'Mul' object is not iterable\n",
      "Couldn't subtract None and None with exception unsupported operand type(s) for -: 'NoneType' and 'NoneType'\n",
      "failed to parse 0.0220000000000000 with exception 'Float' object is not iterable\n",
      "failed to parse n*(a*n) with exception 'Mul' object is not iterable\n",
      "Couldn't subtract None and None with exception unsupported operand type(s) for -: 'NoneType' and 'NoneType'\n",
      "failed to parse (2*(pi*(R**2*c**2)))/((lambda**5*(d**2*(e**((c*h)/((lambda*(T*k)))) - 1)))) with exception 'Mul' object is not iterable\n",
      "failed to parse 1.00000000000000 with exception 'Float' object is not iterable\n",
      "Couldn't subtract None and None with exception unsupported operand type(s) for -: 'NoneType' and 'NoneType'\n",
      "failed to parse 8.7*(e*8) with exception 'Mul' object is not iterable\n",
      "failed to parse n*(a*n) with exception 'Mul' object is not iterable\n",
      "Couldn't subtract None and None with exception unsupported operand type(s) for -: 'NoneType' and 'NoneType'\n",
      "failed to parse 4.49000000000000 with exception 'Float' object is not iterable\n",
      "failed to parse n*(a*n) with exception 'Mul' object is not iterable\n",
      "Couldn't subtract None and None with exception unsupported operand type(s) for -: 'NoneType' and 'NoneType'\n",
      "failed to parse 3*(e*6) with exception 'Mul' object is not iterable\n",
      "failed to parse n*(a*n) with exception 'Mul' object is not iterable\n",
      "Couldn't subtract None and None with exception unsupported operand type(s) for -: 'NoneType' and 'NoneType'\n",
      "failed to parse 7*(e*37) with exception 'Mul' object is not iterable\n",
      "failed to parse n*(a*n) with exception 'Mul' object is not iterable\n",
      "Couldn't subtract None and None with exception unsupported operand type(s) for -: 'NoneType' and 'NoneType'\n",
      "failed to parse (M**(1/3)*a)/(G*M**(2/3) + b) with exception 'Mul' object is not iterable\n",
      "failed to parse 3.00000000000000 with exception 'Float' object is not iterable\n",
      "Couldn't subtract None and None with exception unsupported operand type(s) for -: 'NoneType' and 'NoneType'\n",
      "failed to parse 7.5*(e*7) with exception 'Mul' object is not iterable\n",
      "failed to parse n*(a*n) with exception 'Mul' object is not iterable\n",
      "Couldn't subtract None and None with exception unsupported operand type(s) for -: 'NoneType' and 'NoneType'\n",
      "failed to parse (P_{0}**(2/5) - 2/5*g*(z/K**(3/5)))**(5/2) with exception 'Pow' object is not iterable\n",
      "failed to parse 2.00000000000000 with exception 'Float' object is not iterable\n",
      "Couldn't subtract None and None with exception unsupported operand type(s) for -: 'NoneType' and 'NoneType'\n",
      "failed to parse sqrt(4*(pi*(G*(r_{0}**2*rho_{0})))) with exception 'Pow' object is not iterable\n",
      "failed to parse 0.0 with exception 'Float' object is not iterable\n",
      "Couldn't subtract None and None with exception unsupported operand type(s) for -: 'NoneType' and 'NoneType'\n",
      "failed to parse asin(1.3*sin(theta_{w})) with exception 'asin' object is not iterable\n",
      "failed to parse 1.00000000000000 with exception 'Float' object is not iterable\n",
      "Couldn't subtract None and None with exception unsupported operand type(s) for -: 'NoneType' and 'NoneType'\n",
      "failed to parse 2*(e*27) with exception 'Mul' object is not iterable\n",
      "failed to parse n*(a*n) with exception 'Mul' object is not iterable\n",
      "Couldn't subtract None and None with exception unsupported operand type(s) for -: 'NoneType' and 'NoneType'\n"
     ]
    },
    {
     "name": "stderr",
     "output_type": "stream",
     "text": [
      " 19%|█▉        | 53/272 [00:00<00:01, 201.20it/s]"
     ]
    },
    {
     "name": "stdout",
     "output_type": "stream",
     "text": [
      "I don't understand this\n",
      "-1./3\n",
      "~~~^\n",
      "failed to parse n*(a*n) with exception 'Mul' object is not iterable\n",
      "Couldn't subtract None and i*(n*(v*(a*(l*(i*(da*(n*(s*(w*(e*r)))))))))) with exception unsupported operand type(s) for -: 'NoneType' and 'Mul'\n",
      "failed to parse (v_{0}/r_{0})/((r/r_{0} + 1)**(3/2)) with exception 'Mul' object is not iterable\n",
      "failed to parse n*(a*n) with exception 'Mul' object is not iterable\n",
      "Couldn't subtract None and None with exception unsupported operand type(s) for -: 'NoneType' and 'NoneType'\n",
      "failed to parse 15625 with exception 'Integer' object is not iterable\n",
      "failed to parse n*(a*n) with exception 'Mul' object is not iterable\n",
      "Couldn't subtract None and None with exception unsupported operand type(s) for -: 'NoneType' and 'NoneType'\n",
      "failed to parse I(0) with exception 'I' object is not iterable\n",
      "failed to parse 0.0 with exception 'Float' object is not iterable\n",
      "Couldn't subtract None and None with exception unsupported operand type(s) for -: 'NoneType' and 'NoneType'\n",
      "failed to parse c/x**2 - cos(2*x)/(2*x**2) with exception 'Add' object is not iterable\n",
      "failed to parse n*(a*n) with exception 'Mul' object is not iterable\n",
      "Couldn't subtract None and None with exception unsupported operand type(s) for -: 'NoneType' and 'NoneType'\n",
      "failed to parse sqrt(3)*i + 1 with exception 'Add' object is not iterable\n",
      "failed to parse 1.00000000000000 with exception 'Float' object is not iterable\n",
      "Couldn't subtract None and None with exception unsupported operand type(s) for -: 'NoneType' and 'NoneType'\n",
      "failed to parse 0 with exception 'Zero' object is not iterable\n",
      "failed to parse n*(a*n) with exception 'Mul' object is not iterable\n",
      "Couldn't subtract None and None with exception unsupported operand type(s) for -: 'NoneType' and 'NoneType'\n",
      "failed to parse -0.875000000000000 with exception 'Float' object is not iterable\n",
      "failed to parse n*(a*n) with exception 'Mul' object is not iterable\n",
      "Couldn't subtract None and None with exception unsupported operand type(s) for -: 'NoneType' and 'NoneType'\n",
      "failed to parse sqrt(2)*cos(-pi/4 + 2*t) with exception 'Mul' object is not iterable\n",
      "failed to parse n*(a*n) with exception 'Mul' object is not iterable\n",
      "Couldn't subtract None and None with exception unsupported operand type(s) for -: 'NoneType' and 'NoneType'\n",
      "failed to parse (-exp((-a)*t) + exp(a*t))/((2*a)) with exception 'Mul' object is not iterable\n",
      "failed to parse 0.0 with exception 'Float' object is not iterable\n",
      "Couldn't subtract None and None with exception unsupported operand type(s) for -: 'NoneType' and 'NoneType'\n"
     ]
    },
    {
     "name": "stderr",
     "output_type": "stream",
     "text": [
      " 27%|██▋       | 74/272 [00:00<00:01, 170.56it/s]"
     ]
    },
    {
     "name": "stdout",
     "output_type": "stream",
     "text": [
      "I don't understand this\n",
      "x_{0} \\cos (\\omega t)+$ $\\dot{x}_{0} \\sin (\\omega t) / \\omega\n",
      "~~~~~~~~~~~~~~~~~~~~~~^\n",
      "failed to parse n*(a*n) with exception 'Mul' object is not iterable\n",
      "Couldn't subtract None and i*(n*(v*(a*(l*(i*(da*(n*(s*(w*(e*r)))))))))) with exception unsupported operand type(s) for -: 'NoneType' and 'Mul'\n",
      "failed to parse (i*pi)/3 + log(2, E) with exception 'Add' object is not iterable\n",
      "failed to parse 3.00000000000000 with exception 'Float' object is not iterable\n",
      "Couldn't subtract None and None with exception unsupported operand type(s) for -: 'NoneType' and 'NoneType'\n",
      "failed to parse e**t/3 with exception 'Mul' object is not iterable\n",
      "failed to parse 1.00000000000000 with exception 'Float' object is not iterable\n",
      "Couldn't subtract None and None with exception unsupported operand type(s) for -: 'NoneType' and 'NoneType'\n",
      "failed to parse C_{4}*sin(t) + (C_{3}*cos(t) + (C_{2}/e**t + (C_{1}*e**t + cos(2*t)/15))) with exception 'Add' object is not iterable\n",
      "failed to parse 4.00000000000000 with exception 'Float' object is not iterable\n",
      "Couldn't subtract None and None with exception unsupported operand type(s) for -: 'NoneType' and 'NoneType'\n",
      "failed to parse 1/(4 - omega**2) with exception 'Pow' object is not iterable\n",
      "failed to parse 2.00000000000000 with exception 'Float' object is not iterable\n",
      "Couldn't subtract None and None with exception unsupported operand type(s) for -: 'NoneType' and 'NoneType'\n",
      "failed to parse (sin(2*t) + cos(2*t))/4 with exception 'Mul' object is not iterable\n",
      "failed to parse n*(a*n) with exception 'Mul' object is not iterable\n",
      "Couldn't subtract None and None with exception unsupported operand type(s) for -: 'NoneType' and 'NoneType'\n",
      "failed to parse c/e**(2*x) + (x/2 - 1/4) with exception 'Add' object is not iterable\n",
      "failed to parse n*(a*n) with exception 'Mul' object is not iterable\n",
      "Couldn't subtract None and None with exception unsupported operand type(s) for -: 'NoneType' and 'NoneType'\n",
      "failed to parse C_{4}*sin(t) + (C_{3}*cos(t) + (C_{2}/e**t + (C_{1}*e**t + 1/(e**(2*t)*15)))) with exception 'Add' object is not iterable\n",
      "failed to parse 4.00000000000000 with exception 'Float' object is not iterable\n",
      "Couldn't subtract None and None with exception unsupported operand type(s) for -: 'NoneType' and 'NoneType'\n",
      "failed to parse omega**2 + s**2 with exception 'Add' object is not iterable\n",
      "failed to parse 2.00000000000000 with exception 'Float' object is not iterable\n",
      "Couldn't subtract None and None with exception unsupported operand type(s) for -: 'NoneType' and 'NoneType'\n",
      "failed to parse 2*cos(pi*t + pi/3) with exception 'Mul' object is not iterable\n",
      "failed to parse n*(a*n) with exception 'Mul' object is not iterable\n",
      "Couldn't subtract None and None with exception unsupported operand type(s) for -: 'NoneType' and 'NoneType'\n",
      "failed to parse (2*pi)/omega with exception 'Mul' object is not iterable\n",
      "failed to parse 0.0 with exception 'Float' object is not iterable\n",
      "Couldn't subtract None and None with exception unsupported operand type(s) for -: 'NoneType' and 'NoneType'\n"
     ]
    },
    {
     "name": "stderr",
     "output_type": "stream",
     "text": [
      " 34%|███▍      | 92/272 [00:00<00:01, 106.58it/s]"
     ]
    },
    {
     "name": "stdout",
     "output_type": "stream",
     "text": [
      "failed to parse e**(i*t)*((4*A)/(3*i + 3)) with exception 'Mul' object is not iterable\n",
      "failed to parse 4.00000000000000 with exception 'Float' object is not iterable\n",
      "Couldn't subtract None and None with exception unsupported operand type(s) for -: 'NoneType' and 'NoneType'\n",
      "failed to parse I(0)/e**(t/((C*R))) with exception 'Mul' object is not iterable\n",
      "failed to parse 0.0 with exception 'Float' object is not iterable\n",
      "Couldn't subtract None and None with exception unsupported operand type(s) for -: 'NoneType' and 'NoneType'\n",
      "failed to parse e**(2*(i*t))/(2*i + 2) with exception 'Mul' object is not iterable\n",
      "failed to parse 2.00000000000000 with exception 'Float' object is not iterable\n",
      "Couldn't subtract None and None with exception unsupported operand type(s) for -: 'NoneType' and 'NoneType'\n",
      "failed to parse (-i*omega/4 + (2 - omega**2))/((omega**4 - 63/16*omega**2) + 4) with exception 'Mul' object is not iterable\n",
      "failed to parse 2.00000000000000 with exception 'Float' object is not iterable\n",
      "Couldn't subtract None and None with exception unsupported operand type(s) for -: 'NoneType' and 'NoneType'\n",
      "failed to parse (-t**2 - t) - 3 with exception 'Add' object is not iterable\n",
      "failed to parse 0.0 with exception 'Float' object is not iterable\n",
      "Couldn't subtract None and None with exception unsupported operand type(s) for -: 'NoneType' and 'NoneType'\n",
      "failed to parse cos(2*t)/15 with exception 'Mul' object is not iterable\n",
      "failed to parse 0.0 with exception 'Float' object is not iterable\n",
      "Couldn't subtract None and None with exception unsupported operand type(s) for -: 'NoneType' and 'NoneType'\n",
      "failed to parse 2*(sqrt(3)*i) - 2 with exception 'Add' object is not iterable\n",
      "failed to parse 3.00000000000000 with exception 'Float' object is not iterable\n",
      "Couldn't subtract None and None with exception unsupported operand type(s) for -: 'NoneType' and 'NoneType'\n",
      "failed to parse (t/4)*sin(2*t) with exception 'Mul' object is not iterable\n",
      "failed to parse 2.00000000000000 with exception 'Float' object is not iterable\n",
      "Couldn't subtract None and None with exception unsupported operand type(s) for -: 'NoneType' and 'NoneType'\n",
      "failed to parse (exp((-a)*t) + exp(a*t))/2 with exception 'Mul' object is not iterable\n",
      "failed to parse n*(a*n) with exception 'Mul' object is not iterable\n",
      "Couldn't subtract None and None with exception unsupported operand type(s) for -: 'NoneType' and 'NoneType'\n",
      "failed to parse c/e**(2*t) + e**t/3 with exception 'Add' object is not iterable\n",
      "failed to parse 2.00000000000000 with exception 'Float' object is not iterable\n",
      "Couldn't subtract None and None with exception unsupported operand type(s) for -: 'NoneType' and 'NoneType'\n",
      "failed to parse (C + (t**2/2 - t))/e**t with exception 'Mul' object is not iterable\n",
      "failed to parse n*(a*n) with exception 'Mul' object is not iterable\n",
      "Couldn't subtract None and None with exception unsupported operand type(s) for -: 'NoneType' and 'NoneType'\n",
      "failed to parse 1/(e**(2*t)*15) with exception 'Mul' object is not iterable\n",
      "failed to parse n*(a*n) with exception 'Mul' object is not iterable\n",
      "Couldn't subtract None and None with exception unsupported operand type(s) for -: 'NoneType' and 'NoneType'\n",
      "failed to parse m with exception 'Symbol' object is not iterable\n",
      "failed to parse n*(a*n) with exception 'Mul' object is not iterable\n",
      "Couldn't subtract None and None with exception unsupported operand type(s) for -: 'NoneType' and 'NoneType'\n"
     ]
    },
    {
     "name": "stderr",
     "output_type": "stream",
     "text": [
      " 39%|███▉      | 106/272 [00:00<00:01, 99.21it/s]"
     ]
    },
    {
     "name": "stdout",
     "output_type": "stream",
     "text": [
      "failed to parse C_{2}*cos(2*t) + (C_{1}*sin(2*t) - sin(3*t)/5) with exception 'Add' object is not iterable\n",
      "failed to parse 3.00000000000000 with exception 'Float' object is not iterable\n",
      "Couldn't subtract None and None with exception unsupported operand type(s) for -: 'NoneType' and 'NoneType'\n",
      "failed to parse pi/2 with exception 'Mul' object is not iterable\n",
      "failed to parse 2.00000000000000 with exception 'Float' object is not iterable\n",
      "Couldn't subtract None and None with exception unsupported operand type(s) for -: 'NoneType' and 'NoneType'\n",
      "failed to parse (b*s + s**2) + 1 with exception 'Add' object is not iterable\n",
      "failed to parse 2.00000000000000 with exception 'Float' object is not iterable\n",
      "Couldn't subtract None and None with exception unsupported operand type(s) for -: 'NoneType' and 'NoneType'\n",
      "failed to parse (37/4)*m with exception 'Mul' object is not iterable\n",
      "failed to parse 37.0000000000000 with exception 'Float' object is not iterable\n",
      "Couldn't subtract None and None with exception unsupported operand type(s) for -: 'NoneType' and 'NoneType'\n",
      "failed to parse -8*sqrt(3)*i - 8 with exception 'Add' object is not iterable\n",
      "failed to parse 3.00000000000000 with exception 'Float' object is not iterable\n",
      "Couldn't subtract None and None with exception unsupported operand type(s) for -: 'NoneType' and 'NoneType'\n",
      "failed to parse (sqrt(2)/4)*cos(-pi/4 + t) with exception 'Mul' object is not iterable\n",
      "failed to parse 2.00000000000000 with exception 'Float' object is not iterable\n",
      "Couldn't subtract None and None with exception unsupported operand type(s) for -: 'NoneType' and 'NoneType'\n",
      "failed to parse C/e**(2*t) + e**(2*(i*t))/(2*i + 2) with exception 'Add' object is not iterable\n",
      "failed to parse n*(a*n) with exception 'Mul' object is not iterable\n",
      "Couldn't subtract None and None with exception unsupported operand type(s) for -: 'NoneType' and 'NoneType'\n",
      "failed to parse -tau*log(Delta, E) with exception 'Mul' object is not iterable\n",
      "failed to parse 0.0 with exception 'Float' object is not iterable\n",
      "Couldn't subtract None and None with exception unsupported operand type(s) for -: 'NoneType' and 'NoneType'\n",
      "failed to parse 2.2*tau with exception 'Mul' object is not iterable\n",
      "failed to parse 0.100000000000000 with exception 'Float' object is not iterable\n",
      "Couldn't subtract None and None with exception unsupported operand type(s) for -: 'NoneType' and 'NoneType'\n",
      "failed to parse 1/(a + s) with exception 'Pow' object is not iterable\n",
      "failed to parse 1.00000000000000 with exception 'Float' object is not iterable\n",
      "Couldn't subtract None and None with exception unsupported operand type(s) for -: 'NoneType' and 'NoneType'\n",
      "failed to parse omega_{n}**2*(cos(omega_{n}*(t*sqrt(1 - zeta**2)))/e**(zeta*(omega_{n}*t))) - sin(omega_{n}*(t*sqrt(1 - zeta**2)))/e**(zeta*(omega_{n}*t))*(omega_{n}**2*zeta)/(sqrt(1 - zeta**2)) with exception 'Add' object is not iterable\n",
      "failed to parse n*(a*n) with exception 'Mul' object is not iterable\n",
      "Couldn't subtract None and None with exception unsupported operand type(s) for -: 'NoneType' and 'NoneType'\n",
      "failed to parse (-1/(e*e**s)/(s + 1) + (1/(s + 1) - 1/(e*s))) + (1/(e*e**s))/s with exception 'Add' object is not iterable\n",
      "failed to parse n*(a*n) with exception 'Mul' object is not iterable\n",
      "Couldn't subtract None and None with exception unsupported operand type(s) for -: 'NoneType' and 'NoneType'\n",
      "failed to parse 1/s - 1/(e**(T*s)*s) with exception 'Add' object is not iterable\n",
      "failed to parse 1.00000000000000 with exception 'Float' object is not iterable\n",
      "Couldn't subtract None and None with exception unsupported operand type(s) for -: 'NoneType' and 'NoneType'\n"
     ]
    },
    {
     "name": "stderr",
     "output_type": "stream",
     "text": [
      " 47%|████▋     | 128/272 [00:01<00:01, 82.88it/s]"
     ]
    },
    {
     "name": "stdout",
     "output_type": "stream",
     "text": [
      "failed to parse t/m with exception 'Mul' object is not iterable\n",
      "failed to parse 1.00000000000000 with exception 'Float' object is not iterable\n",
      "Couldn't subtract None and None with exception unsupported operand type(s) for -: 'NoneType' and 'NoneType'\n",
      "failed to parse (s + sigma)/(omega_{d}**2 + (s + sigma)**2) with exception 'Mul' object is not iterable\n",
      "failed to parse 2.00000000000000 with exception 'Float' object is not iterable\n",
      "Couldn't subtract None and None with exception unsupported operand type(s) for -: 'NoneType' and 'NoneType'\n",
      "failed to parse omega_{d}/(omega_{d}**2 + (s + sigma)**2) with exception 'Mul' object is not iterable\n",
      "failed to parse 2.00000000000000 with exception 'Float' object is not iterable\n",
      "Couldn't subtract None and None with exception unsupported operand type(s) for -: 'NoneType' and 'NoneType'\n",
      "failed to parse 0.100000000000000 with exception 'Float' object is not iterable\n",
      "failed to parse n*(a*n) with exception 'Mul' object is not iterable\n",
      "Couldn't subtract None and None with exception unsupported operand type(s) for -: 'NoneType' and 'NoneType'\n",
      "failed to parse ((1 - 3/e**(2*t)) + 2/e**(5*t))*u(t) with exception 'Mul' object is not iterable\n",
      "failed to parse 1.00000000000000 with exception 'Float' object is not iterable\n",
      "Couldn't subtract None and None with exception unsupported operand type(s) for -: 'NoneType' and 'NoneType'\n",
      "failed to parse (b*delta(t) + 1) - 1/e**(a*t) with exception 'Add' object is not iterable\n",
      "failed to parse 1.00000000000000 with exception 'Float' object is not iterable\n",
      "Couldn't subtract None and None with exception unsupported operand type(s) for -: 'NoneType' and 'NoneType'\n",
      "failed to parse (-1/e**(b*t) + e**(-a*t))/(-a + b) with exception 'Mul' object is not iterable\n",
      "failed to parse 1.00000000000000 with exception 'Float' object is not iterable\n",
      "Couldn't subtract None and None with exception unsupported operand type(s) for -: 'NoneType' and 'NoneType'\n",
      "failed to parse (t + sin(2*t)/2)*u(t) with exception 'Mul' object is not iterable\n",
      "failed to parse 1.00000000000000 with exception 'Float' object is not iterable\n",
      "Couldn't subtract None and None with exception unsupported operand type(s) for -: 'NoneType' and 'NoneType'\n",
      "failed to parse 1/((L*(C*s**2) + R*(C*s)) + 1) with exception 'Pow' object is not iterable\n",
      "failed to parse 1.00000000000000 with exception 'Float' object is not iterable\n",
      "Couldn't subtract None and None with exception unsupported operand type(s) for -: 'NoneType' and 'NoneType'\n"
     ]
    },
    {
     "name": "stderr",
     "output_type": "stream",
     "text": [
      " 79%|███████▉  | 215/272 [00:01<00:00, 229.93it/s]"
     ]
    },
    {
     "name": "stdout",
     "output_type": "stream",
     "text": [
      "failed to parse c/(sqrt(2)) with exception 'Mul' object is not iterable\n",
      "failed to parse 1.00000000000000 with exception 'Float' object is not iterable\n",
      "Couldn't subtract None and None with exception unsupported operand type(s) for -: 'NoneType' and 'NoneType'\n",
      "failed to parse m_{p}*(c**2*((gamma**2 - 1)*sin(theta)**2)) with exception 'Mul' object is not iterable\n",
      "failed to parse 2.00000000000000 with exception 'Float' object is not iterable\n",
      "Couldn't subtract None and None with exception unsupported operand type(s) for -: 'NoneType' and 'NoneType'\n",
      "failed to parse lambda_{text*(r*(d*e))}/(sqrt(2)) with exception 'Mul' object is not iterable\n",
      "failed to parse 2.00000000000000 with exception 'Float' object is not iterable\n",
      "Couldn't subtract None and None with exception unsupported operand type(s) for -: 'NoneType' and 'NoneType'\n",
      "failed to parse 5 with exception 'Integer' object is not iterable\n",
      "failed to parse n*(a*n) with exception 'Mul' object is not iterable\n",
      "Couldn't subtract None and None with exception unsupported operand type(s) for -: 'NoneType' and 'NoneType'\n",
      "failed to parse 700 with exception 'Integer' object is not iterable\n",
      "failed to parse n*(a*n) with exception 'Mul' object is not iterable\n",
      "Couldn't subtract None and None with exception unsupported operand type(s) for -: 'NoneType' and 'NoneType'\n",
      "failed to parse 28.7100000000000 with exception 'Float' object is not iterable\n",
      "failed to parse n*(a*n) with exception 'Mul' object is not iterable\n",
      "Couldn't subtract None and None with exception unsupported operand type(s) for -: 'NoneType' and 'NoneType'\n",
      "failed to parse 1.24*e - 8 with exception 'Add' object is not iterable\n",
      "failed to parse n*(a*n) with exception 'Mul' object is not iterable\n",
      "Couldn't subtract None and None with exception unsupported operand type(s) for -: 'NoneType' and 'NoneType'\n",
      "failed to parse 1200 with exception 'Integer' object is not iterable\n",
      "failed to parse n*(a*n) with exception 'Mul' object is not iterable\n",
      "Couldn't subtract None and None with exception unsupported operand type(s) for -: 'NoneType' and 'NoneType'\n",
      "failed to parse 0.554000000000000 with exception 'Float' object is not iterable\n",
      "failed to parse n*(a*n) with exception 'Mul' object is not iterable\n",
      "Couldn't subtract None and None with exception unsupported operand type(s) for -: 'NoneType' and 'NoneType'\n",
      "failed to parse 3.3*e - 10 with exception 'Add' object is not iterable\n",
      "failed to parse n*(a*n) with exception 'Mul' object is not iterable\n",
      "Couldn't subtract None and None with exception unsupported operand type(s) for -: 'NoneType' and 'NoneType'\n",
      "failed to parse 5.3*(e*3) with exception 'Mul' object is not iterable\n",
      "failed to parse n*(a*n) with exception 'Mul' object is not iterable\n",
      "Couldn't subtract None and None with exception unsupported operand type(s) for -: 'NoneType' and 'NoneType'\n",
      "failed to parse 2.68000000000000 with exception 'Float' object is not iterable\n",
      "failed to parse n*(a*n) with exception 'Mul' object is not iterable\n",
      "Couldn't subtract None and None with exception unsupported operand type(s) for -: 'NoneType' and 'NoneType'\n",
      "failed to parse 41.9000000000000 with exception 'Float' object is not iterable\n",
      "failed to parse n*(a*n) with exception 'Mul' object is not iterable\n",
      "Couldn't subtract None and None with exception unsupported operand type(s) for -: 'NoneType' and 'NoneType'\n",
      "failed to parse 0.112000000000000 with exception 'Float' object is not iterable\n",
      "failed to parse n*(a*n) with exception 'Mul' object is not iterable\n",
      "Couldn't subtract None and None with exception unsupported operand type(s) for -: 'NoneType' and 'NoneType'\n",
      "failed to parse 258 with exception 'Integer' object is not iterable\n",
      "failed to parse n*(a*n) with exception 'Mul' object is not iterable\n",
      "Couldn't subtract None and None with exception unsupported operand type(s) for -: 'NoneType' and 'NoneType'\n",
      "failed to parse 5.3*e - 9 with exception 'Add' object is not iterable\n",
      "failed to parse n*(a*n) with exception 'Mul' object is not iterable\n",
      "Couldn't subtract None and None with exception unsupported operand type(s) for -: 'NoneType' and 'NoneType'\n",
      "failed to parse -1/(2*X**(1/2)) with exception 'Mul' object is not iterable\n",
      "failed to parse 2.00000000000000 with exception 'Float' object is not iterable\n",
      "Couldn't subtract None and None with exception unsupported operand type(s) for -: 'NoneType' and 'NoneType'\n"
     ]
    },
    {
     "name": "stderr",
     "output_type": "stream",
     "text": [
      "100%|██████████| 272/272 [00:01<00:00, 162.10it/s]\n"
     ]
    },
    {
     "name": "stdout",
     "output_type": "stream",
     "text": [
      "failed to parse (2/3)*(C/S) with exception 'Mul' object is not iterable\n",
      "failed to parse 2.00000000000000 with exception 'Float' object is not iterable\n",
      "Couldn't subtract None and None with exception unsupported operand type(s) for -: 'NoneType' and 'NoneType'\n",
      "failed to parse (K - 1)/L with exception 'Mul' object is not iterable\n",
      "failed to parse 4.00000000000000 with exception 'Float' object is not iterable\n",
      "Couldn't subtract None and None with exception unsupported operand type(s) for -: 'NoneType' and 'NoneType'\n",
      "failed to parse 100*p**(1/2) with exception 'Mul' object is not iterable\n",
      "failed to parse 100.000000000000 with exception 'Float' object is not iterable\n",
      "Couldn't subtract None and None with exception unsupported operand type(s) for -: 'NoneType' and 'NoneType'\n",
      "failed to parse 1/(4*p**2) with exception 'Pow' object is not iterable\n",
      "failed to parse 2.00000000000000 with exception 'Float' object is not iterable\n",
      "Couldn't subtract None and None with exception unsupported operand type(s) for -: 'NoneType' and 'NoneType'\n",
      "failed to parse alpha with exception 'Symbol' object is not iterable\n",
      "failed to parse n*(a*n) with exception 'Mul' object is not iterable\n",
      "Couldn't subtract None and None with exception unsupported operand type(s) for -: 'NoneType' and 'NoneType'\n",
      "failed to parse hbar*omega(v + 1/2) - E_{0}**2*e**2/(2*(m*omega**2)) with exception 'Add' object is not iterable\n",
      "failed to parse n*(a*n) with exception 'Mul' object is not iterable\n",
      "Couldn't subtract None and None with exception unsupported operand type(s) for -: 'NoneType' and 'NoneType'\n",
      "failed to parse 7.6*Z with exception 'Mul' object is not iterable\n",
      "failed to parse 5.90000000000000 with exception 'Float' object is not iterable\n",
      "Couldn't subtract None and None with exception unsupported operand type(s) for -: 'NoneType' and 'NoneType'\n",
      "failed to parse 1.07*(e*16) with exception 'Mul' object is not iterable\n",
      "failed to parse n*(a*n) with exception 'Mul' object is not iterable\n",
      "Couldn't subtract None and None with exception unsupported operand type(s) for -: 'NoneType' and 'NoneType'\n",
      "failed to parse 11.9000000000000 with exception 'Float' object is not iterable\n",
      "failed to parse n*(a*n) with exception 'Mul' object is not iterable\n",
      "Couldn't subtract None and None with exception unsupported operand type(s) for -: 'NoneType' and 'NoneType'\n",
      "failed to parse E_{1}/3 + (2/3)*E_{2} with exception 'Add' object is not iterable\n",
      "failed to parse 1.00000000000000 with exception 'Float' object is not iterable\n",
      "Couldn't subtract None and None with exception unsupported operand type(s) for -: 'NoneType' and 'NoneType'\n",
      "failed to parse E_{1} with exception 'Symbol' object is not iterable\n",
      "failed to parse 2.00000000000000 with exception 'Float' object is not iterable\n",
      "Couldn't subtract None and None with exception unsupported operand type(s) for -: 'NoneType' and 'NoneType'\n",
      "failed to parse 24 with exception 'Integer' object is not iterable\n",
      "failed to parse n*(a*n) with exception 'Mul' object is not iterable\n",
      "Couldn't subtract None and None with exception unsupported operand type(s) for -: 'NoneType' and 'NoneType'\n"
     ]
    },
    {
     "name": "stderr",
     "output_type": "stream",
     "text": [
      "  6%|▌         | 15/272 [00:00<00:01, 138.91it/s]"
     ]
    },
    {
     "name": "stdout",
     "output_type": "stream",
     "text": [
      "failed to parse \\(5.9\\,\\mathrm{m/s^2}\\) with exception I don't understand this\n",
      "\\(5.9\\,\\mathrm{m/s^2}\\)\n",
      "~~~~~~~~~~~~~~~~~~~~~^\n",
      "Couldn't subtract None and 0.00600000000000000 with exception unsupported operand type(s) for -: 'NoneType' and 'Float'\n"
     ]
    },
    {
     "name": "stderr",
     "output_type": "stream",
     "text": [
      " 18%|█▊        | 50/272 [00:00<00:02, 78.03it/s] "
     ]
    },
    {
     "name": "stdout",
     "output_type": "stream",
     "text": [
      "failed to parse -1./3 with exception I don't understand this\n",
      "-1./3\n",
      "~~~^\n",
      "Couldn't subtract M and None with exception unsupported operand type(s) for -: 'Symbol' and 'NoneType'\n",
      "failed to parse 3.086\\times10^{13}\\mathrm{~} with exception I don't understand this\n",
      "3.086\\times10^{13}\\mathrm{~}\n",
      "~~~~~~~~~~~~~~~~~~~~~~~~~~^\n",
      "Couldn't subtract None and 0.561300000000000 with exception unsupported operand type(s) for -: 'NoneType' and 'Float'\n",
      "failed to parse 10^{-3}\\mathrm{~} with exception I don't understand this\n",
      "10^{-3}\\mathrm{~}\n",
      "~~~~~~~~~~~~~~~^\n",
      "Couldn't subtract None and 1*e - 3 with exception unsupported operand type(s) for -: 'NoneType' and 'Add'\n",
      "failed to parse -3./2 with exception I don't understand this\n",
      "-3./2\n",
      "~~~^\n",
      "Couldn't subtract logF and None with exception unsupported operand type(s) for -: 'Symbol' and 'NoneType'\n"
     ]
    },
    {
     "name": "stderr",
     "output_type": "stream",
     "text": [
      " 24%|██▍       | 65/272 [00:05<00:31,  6.50it/s]"
     ]
    },
    {
     "name": "stdout",
     "output_type": "stream",
     "text": [
      "Timed out comparing T*(h*(i*(s*(i*(s*(t*(h*(e*(g*(e*(n*(e*(r*(a*(l*(s*(o*(l*(u*(t*(i*(o*(n*(t*(o*(t*(h*(e*(g*(i*(v*(e*(n*(di*(f*(f*(e*(r*(e*(n*(t*(i*(a*(l*(e*(q*(u*(a*(t*(i*(n*o))))))))))))))))))))))))))))))))))))))))))))))))))) and c/x**2 - cos(2*x)/(2*x**2)\n"
     ]
    },
    {
     "name": "stderr",
     "output_type": "stream",
     "text": [
      " 44%|████▍     | 119/272 [00:08<00:04, 30.83it/s]"
     ]
    },
    {
     "name": "stdout",
     "output_type": "stream",
     "text": [
      "failed to parse \\(-\\tau\\ln(0.1)\\) with exception I don't understand this\n",
      "\\(-\\tau\\ln(0.1)\\)\n",
      "~~~~~~~~~~~~~~~^\n",
      "Couldn't subtract None and 2.2*tau with exception unsupported operand type(s) for -: 'NoneType' and 'Mul'\n",
      "failed to parse \\(y(t)\\) with exception I don't understand this\n",
      "\\(y(t)\\)\n",
      "~~~~~~^\n",
      "Couldn't subtract None and omega_{n}**2/e**(zet*(omega_{n}*t)) with exception unsupported operand type(s) for -: 'NoneType' and 'Mul'\n",
      "failed to parse \\(u_{s}(t)-u_{s}(t-1)\\) with exception I don't understand this\n",
      "\\(u_{s}(t)-u_{s}(t-1)\\)\n",
      "~~~~~~~~~~~~~~~~~~~~~^\n",
      "Couldn't subtract None and (-1/(e*e**s)/(s + 1) + (1/(s + 1) - 1/(e*s))) + (1/(e*e**s))/s with exception unsupported operand type(s) for -: 'NoneType' and 'Add'\n",
      "failed to parse \\(1/m\\) with exception I don't understand this\n",
      "\\(1/m\\)\n",
      "~~~~~^\n",
      "Couldn't subtract None and t/m with exception unsupported operand type(s) for -: 'NoneType' and 'Mul'\n"
     ]
    },
    {
     "name": "stderr",
     "output_type": "stream",
     "text": [
      " 49%|████▉     | 133/272 [00:08<00:03, 44.12it/s]"
     ]
    },
    {
     "name": "stdout",
     "output_type": "stream",
     "text": [
      "failed to parse \\(t\\) with exception I don't understand this\n",
      "\\(t\\)\n",
      "~~~^\n",
      "Couldn't subtract None and 1000 with exception unsupported operand type(s) for -: 'NoneType' and 'Integer'\n",
      "failed to parse \\(t>0\\) with exception I don't understand this\n",
      "\\(t>0\\)\n",
      "~~~~~^\n",
      "Couldn't subtract None and (b*delta(t) + 1) - 1/e**t with exception unsupported operand type(s) for -: 'NoneType' and 'Add'\n",
      "failed to parse \\(Y(s)\\) with exception I don't understand this\n",
      "\\(Y(s)\\)\n",
      "~~~~~~^\n",
      "Couldn't subtract None and 1/(-a + b) <= -1/e**(b*t) + e**(-t) with exception unsupported operand type(s) for -: 'NoneType' and 'LessThan'\n",
      "failed to parse \n",
      "\n",
      " with exception I expected something else here\n",
      "\n",
      "\n",
      "\n",
      "^\n",
      "Couldn't subtract None and (t + sin(2*t)/2)*u(t) with exception unsupported operand type(s) for -: 'NoneType' and 'Mul'\n",
      "failed to parse \\(V_{i}(s)\\) with exception I don't understand this\n",
      "\\(V_{i}(s)\\)\n",
      "~~~~~~~~~~^\n",
      "Couldn't subtract None and 1/((L*(C*s**2) + R*(C*s)) + 1) with exception unsupported operand type(s) for -: 'NoneType' and 'Pow'\n",
      "failed to parse \\(\\frac{1}{5}\\) with exception I don't understand this\n",
      "\\(\\frac{1}{5}\\)\n",
      "~~~~~~~~~~~~~^\n",
      "Couldn't subtract None and 0.200000000000000 with exception unsupported operand type(s) for -: 'NoneType' and 'Float'\n",
      "failed to parse \\(10^{-8}\\) with exception I don't understand this\n",
      "\\(10^{-8}\\)\n",
      "~~~~~~~~~^\n",
      "Couldn't subtract None and 1*e - 8 with exception unsupported operand type(s) for -: 'NoneType' and 'Add'\n",
      "failed to parse \\(\\omega_n\\) with exception I don't understand this\n",
      "\\(\\omega_n\\)\n",
      "~~~~~~~~~~^\n",
      "Couldn't subtract None and 100 with exception unsupported operand type(s) for -: 'NoneType' and 'Integer'\n"
     ]
    },
    {
     "name": "stderr",
     "output_type": "stream",
     "text": [
      " 61%|██████    | 165/272 [00:08<00:01, 91.56it/s]"
     ]
    },
    {
     "name": "stdout",
     "output_type": "stream",
     "text": [
      "failed to parse \\(\\omega_{d}\\) with exception I don't understand this\n",
      "\\(\\omega_{d}\\)\n",
      "~~~~~~~~~~~~^\n",
      "Couldn't subtract None and 99.9000000000000 with exception unsupported operand type(s) for -: 'NoneType' and 'Float'\n",
      "failed to parse \\(\\frac{1}{20}\\) with exception I don't understand this\n",
      "\\(\\frac{1}{20}\\)\n",
      "~~~~~~~~~~~~~~^\n",
      "Couldn't subtract None and 0.0500000000000000 with exception unsupported operand type(s) for -: 'NoneType' and 'Float'\n",
      "Couldn't subtract m_{p} and c**2*m_{p} <= (gamma**2 - 1)*sin(theta)**2 with exception unsupported operand type(s) for -: 'Symbol' and 'LessThan'\n",
      "failed to parse 4080\\mathrm{~\\mathring{A}} with exception I don't understand this\n",
      "4080\\mathrm{~\\mathring{A}}\n",
      "~~~~~~~~~~~~^\n",
      "Couldn't subtract None and 4080 with exception unsupported operand type(s) for -: 'NoneType' and 'Integer'\n",
      "failed to parse \\(2.19\\times10^6\\) with exception I don't understand this\n",
      "\\(2.19\\times10^6\\)\n",
      "~~~~~~~~~~~~~~~~^\n",
      "Couldn't subtract None and 2.19*(e*6) with exception unsupported operand type(s) for -: 'NoneType' and 'Mul'\n"
     ]
    },
    {
     "name": "stderr",
     "output_type": "stream",
     "text": [
      " 72%|███████▏  | 196/272 [00:08<00:00, 114.15it/s]"
     ]
    },
    {
     "name": "stdout",
     "output_type": "stream",
     "text": [
      "failed to parse 4.33\\times10^3{~s}^{-1} with exception I don't understand this\n",
      "4.33\\times10^3{~s}^{-1}\n",
      "~~~~~~~~~~~~~~~^\n",
      "Couldn't subtract None and 4.45*(e*15) with exception unsupported operand type(s) for -: 'NoneType' and 'Mul'\n",
      "failed to parse \\(0.59\\times10^{-6}\\) with exception I don't understand this\n",
      "\\(0.59\\times10^{-6}\\)\n",
      "~~~~~~~~~~~~~~~~~~~^\n",
      "Couldn't subtract None and 5.89*e - 7 with exception unsupported operand type(s) for -: 'NoneType' and 'Add'\n",
      "failed to parse 7.353\\times10^{14}\\mathrm{~Hz} with exception I don't understand this\n",
      "7.353\\times10^{14}\\mathrm{~Hz}\n",
      "~~~~~~~~~~~~~~~~~~~~~~~~~~^\n",
      "Couldn't subtract None and 7.353*(e*14) with exception unsupported operand type(s) for -: 'NoneType' and 'Mul'\n",
      "failed to parse <110> with exception I don't understand this\n",
      "<110>\n",
      "^\n",
      "Couldn't subtract None and 1.39*(e*9) with exception unsupported operand type(s) for -: 'NoneType' and 'Mul'\n",
      "failed to parse \\(E_a\\) with exception I don't understand this\n",
      "\\(E_a\\)\n",
      "~~~~~^\n",
      "Couldn't subtract None and 1.45*e - 5 with exception unsupported operand type(s) for -: 'NoneType' and 'Add'\n",
      "failed to parse \\[C(3\\times10^{-3},10800)\\approx7.9976\\times10^{18}\\,^{-3}\\] with exception I don't understand this\n",
      "\\[C(3\\times10^{-3},10800)\\approx7.9976\\times10^{18}\\,^{-3}\\]\n",
      "^\n",
      "Couldn't subtract None and 2.88*(e*16) with exception unsupported operand type(s) for -: 'NoneType' and 'Mul'\n",
      "failed to parse 16.6\\mathrm{~g}/\\mathrm{}^{3} with exception I don't understand this\n",
      "16.6\\mathrm{~g}/\\mathrm{}^{3}\n",
      "~~~~~~~~~~~~^\n",
      "Couldn't subtract None and 181.300000000000 with exception unsupported operand type(s) for -: 'NoneType' and 'Float'\n"
     ]
    },
    {
     "name": "stderr",
     "output_type": "stream",
     "text": [
      " 77%|███████▋  | 209/272 [00:08<00:00, 98.92it/s] "
     ]
    },
    {
     "name": "stdout",
     "output_type": "stream",
     "text": [
      "failed to parse \\le(\\frac{6.64\\mathrm{~mL/mol}}{\\frac{6.022\\times10^{23}\\mathrm{~mol}^{-1}}{2}}\\right)^{\\frac{1}{3}} with exception I don't understand this\n",
      "\\le(\\frac{6.64\\mathrm{~mL/mol}}{\\frac{6.022\\times10^{23}\\mathrm{~mol}^{-1}}{2}}\\right)^{\\frac{1}{3}}\n",
      "^\n",
      "Couldn't subtract None and 3.61*(e*2) with exception unsupported operand type(s) for -: 'NoneType' and 'Mul'\n",
      "failed to parse ,thevacancyfrac{t}{i}onincopperisapproximately with exception I don't understand this\n",
      ",thevacancyfrac{t}{i}onincopperisapproximately\n",
      "^\n",
      "Couldn't subtract None and 1.85*(e*5) with exception unsupported operand type(s) for -: 'NoneType' and 'Mul'\n",
      "failed to parse \\(r_0\\) with exception I don't understand this\n",
      "\\(r_0\\)\n",
      "~~~~~^\n",
      "Couldn't subtract None and 3.3*e - 10 with exception unsupported operand type(s) for -: 'NoneType' and 'Add'\n"
     ]
    },
    {
     "name": "stderr",
     "output_type": "stream",
     "text": [
      " 85%|████████▌ | 232/272 [00:09<00:00, 91.27it/s]"
     ]
    },
    {
     "name": "stdout",
     "output_type": "stream",
     "text": [
      "failed to parse \\(E_a\\) with exception I don't understand this\n",
      "\\(E_a\\)\n",
      "~~~~~^\n",
      "Couldn't subtract None and 41.9000000000000 with exception unsupported operand type(s) for -: 'NoneType' and 'Float'\n",
      "failed to parse 2.451e6\\mathrm{~m^{-1}} with exception I don't understand this\n",
      "2.451e6\\mathrm{~m^{-1}}\n",
      "~~~~~~~~~~~~~~~^\n",
      "Couldn't subtract None and 2.45*(e*6) with exception unsupported operand type(s) for -: 'NoneType' and 'Mul'\n"
     ]
    },
    {
     "name": "stderr",
     "output_type": "stream",
     "text": [
      " 89%|████████▉ | 242/272 [00:09<00:00, 86.73it/s]"
     ]
    },
    {
     "name": "stdout",
     "output_type": "stream",
     "text": [
      "failed to parse {}^{14}\\mathrm{C} with exception I expected something else here\n",
      "{}^{14}\\mathrm{C}\n",
      "~^\n",
      "Couldn't subtract None and 41585 with exception unsupported operand type(s) for -: 'NoneType' and 'Integer'\n",
      "failed to parse \\(\\frac{{L^{-\\frac{3}{4}}}}{{(K-1)^{-\\frac{3}{4}}}}\\) with exception I don't understand this\n",
      "\\(\\frac{{L^{-\\frac{3}{4}}}}{{(K-1)^{-\\frac{3}{4}}}}\\)\n",
      "~~~~~~~~~~~~~~~~~~~~~~~~~~~~~~~~~~~~~~~~~~~~~~~~~~~^\n",
      "Couldn't subtract None and (K - 1)/L with exception unsupported operand type(s) for -: 'NoneType' and 'Mul'\n"
     ]
    },
    {
     "name": "stderr",
     "output_type": "stream",
     "text": [
      " 98%|█████████▊| 267/272 [00:10<00:00, 42.14it/s]"
     ]
    },
    {
     "name": "stdout",
     "output_type": "stream",
     "text": [
      "failed to parse \\[p\\approx80\\] with exception I don't understand this\n",
      "\\[p\\approx80\\]\n",
      "^\n",
      "Couldn't subtract None and 64 with exception unsupported operand type(s) for -: 'NoneType' and 'Integer'\n",
      "failed to parse 2.00\\times10^{-3}\\mathrm{~J} with exception I don't understand this\n",
      "2.00\\times10^{-3}\\mathrm{~J}\n",
      "~~~~~~~~~~~~~~~~~~~~~~~~~^\n",
      "Couldn't subtract None and 1.07*(e*16) with exception unsupported operand type(s) for -: 'NoneType' and 'Mul'\n",
      "failed to parse 5.339\\times10^{-19}\\mathrm{~J} with exception I don't understand this\n",
      "5.339\\times10^{-19}\\mathrm{~J}\n",
      "~~~~~~~~~~~~~~~~~~~~~~~~~~~^\n",
      "Couldn't subtract None and 2.88*e - 19 with exception unsupported operand type(s) for -: 'NoneType' and 'Add'\n",
      "failed to parse \\(500\\,nm\\) with exception I don't understand this\n",
      "\\(500\\,nm\\)\n",
      "~~~~~~~~~^\n",
      "Couldn't subtract None and 1.325*e - 27 with exception unsupported operand type(s) for -: 'NoneType' and 'Add'\n",
      "failed to parse \\(4.571\\times10^{-25}\\,\\mathrm{m}\\) with exception I don't understand this\n",
      "\\(4.571\\times10^{-25}\\,\\mathrm{m}\\)\n",
      "~~~~~~~~~~~~~~~~~~~~~~~~~~~~~~~~~^\n",
      "Couldn't subtract None and 4.6*e - 24 with exception unsupported operand type(s) for -: 'NoneType' and 'Add'\n"
     ]
    },
    {
     "name": "stderr",
     "output_type": "stream",
     "text": [
      "100%|██████████| 272/272 [00:10<00:00, 26.10it/s]\n",
      " 19%|█▉        | 53/272 [00:00<00:00, 237.82it/s]"
     ]
    },
    {
     "name": "stdout",
     "output_type": "stream",
     "text": [
      "failed to parse \\frac{2\\pic^{2}R^{2}}{\\lambda^{5}\\le[e^{hc/(\\lambdkT)}-1\\right]d^{2}} with exception missing '}' at '\\le'\n",
      "\\frac{2\\pic^{2}R^{2}}{\\lambda^{5}\\le[e^{hc/(\\lambdkT)}-1\\right]d^{2}}\n",
      "~~~~~~~~~~~~~~~~~~~~~~~~~~~~~~~~~^\n",
      "Couldn't subtract 1.00000000000000 and None with exception unsupported operand type(s) for -: 'Float' and 'NoneType'\n",
      "failed to parse \\le[P_{0}^{2/5}-\\frac{2}{5}gK^{-3/5}z\\right]^{5/2} with exception I don't understand this\n",
      "\\le[P_{0}^{2/5}-\\frac{2}{5}gK^{-3/5}z\\right]^{5/2}\n",
      "^\n",
      "Couldn't subtract 2.00000000000000 and None with exception unsupported operand type(s) for -: 'Float' and 'NoneType'\n"
     ]
    },
    {
     "name": "stderr",
     "output_type": "stream",
     "text": [
      " 47%|████▋     | 129/272 [00:01<00:02, 49.19it/s]"
     ]
    },
    {
     "name": "stdout",
     "output_type": "stream",
     "text": [
      "Couldn't subtract 1.00000000000000 and 1/(-a + b) <= -1/e**(b*t) + e**(-t) with exception unsupported operand type(s) for -: 'Float' and 'LessThan'\n"
     ]
    },
    {
     "name": "stderr",
     "output_type": "stream",
     "text": [
      " 90%|█████████ | 245/272 [00:02<00:00, 218.82it/s]"
     ]
    },
    {
     "name": "stdout",
     "output_type": "stream",
     "text": [
      "Couldn't subtract 2.00000000000000 and c**2*m_{p} <= (gamma**2 - 1)*sin(theta)**2 with exception unsupported operand type(s) for -: 'Float' and 'LessThan'\n"
     ]
    },
    {
     "name": "stderr",
     "output_type": "stream",
     "text": [
      "100%|██████████| 272/272 [00:02<00:00, 116.18it/s]\n"
     ]
    }
   ],
   "source": [
    "ocw_res_norm = before_and_after_accuracy(ocw_df_, ocw_eq_norm)\n",
    "ocw_res_sym = before_and_after_accuracy(ocw_df_, ocw_eq_sym)"
   ]
  },
  {
   "cell_type": "code",
   "execution_count": 16,
   "metadata": {},
   "outputs": [
    {
     "data": {
      "text/plain": [
       "({'new_acc': 0.265,\n",
       "  'old_acc': 0.247,\n",
       "  'newparse_correct': (1325, 4996),\n",
       "  'oldparse_correct': (1232, 4996)},\n",
       " {'new_acc': 0.191, 'old_acc': 0.099, 'delta correct': (25, 272)},\n",
       " {'new_acc': 0.195, 'old_acc': 0.099, 'delta correct': (26, 272)})"
      ]
     },
     "execution_count": 16,
     "metadata": {},
     "output_type": "execute_result"
    }
   ],
   "source": [
    "math_res, ocw_res_sym, ocw_res_norm"
   ]
  },
  {
   "cell_type": "code",
   "execution_count": 18,
   "metadata": {},
   "outputs": [
    {
     "data": {
      "text/plain": [
       "{'new_acc': 0.195, 'old_acc': 0.099, 'delta correct': (26, 272)}"
      ]
     },
     "execution_count": 18,
     "metadata": {},
     "output_type": "execute_result"
    }
   ],
   "source": [
    "{'new_acc': 0.265,\n",
    "  'old_acc': 0.247,\n",
    "  'newparse_correct': (93, 4996),} # math\n",
    "{'new_acc': 0.195, 'old_acc': 0.099, 'delta correct': (26, 272)} # ocw"
   ]
  },
  {
   "cell_type": "code",
   "execution_count": null,
   "metadata": {},
   "outputs": [],
   "source": []
  }
 ],
 "metadata": {
  "kernelspec": {
   "display_name": "new_openai",
   "language": "python",
   "name": "python3"
  },
  "language_info": {
   "codemirror_mode": {
    "name": "ipython",
    "version": 3
   },
   "file_extension": ".py",
   "mimetype": "text/x-python",
   "name": "python",
   "nbconvert_exporter": "python",
   "pygments_lexer": "ipython3",
   "version": "3.11.3"
  }
 },
 "nbformat": 4,
 "nbformat_minor": 2
}
